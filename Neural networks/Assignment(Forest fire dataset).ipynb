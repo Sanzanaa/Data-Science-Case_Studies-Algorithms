{
 "cells": [
  {
   "cell_type": "markdown",
   "id": "45a0aa20",
   "metadata": {},
   "source": [
    "PROBLEM STATEMENT-PREDICT THE BURNED AREA OF FOREST FIRES WITH NEURAL NETWORKS"
   ]
  },
  {
   "cell_type": "code",
   "execution_count": 1,
   "id": "b1d0de6f",
   "metadata": {},
   "outputs": [],
   "source": [
    "import pandas as pd\n",
    "import matplotlib.pyplot as plt\n",
    "import seaborn as sns\n",
    "import numpy as np"
   ]
  },
  {
   "cell_type": "code",
   "execution_count": 2,
   "id": "07e16eb7",
   "metadata": {},
   "outputs": [],
   "source": [
    "seed = 7\n",
    "np.random.seed(seed)\n",
    "df=pd.read_csv('forestfires.csv')"
   ]
  },
  {
   "cell_type": "code",
   "execution_count": 3,
   "id": "f600a236",
   "metadata": {},
   "outputs": [
    {
     "data": {
      "text/html": [
       "<div>\n",
       "<style scoped>\n",
       "    .dataframe tbody tr th:only-of-type {\n",
       "        vertical-align: middle;\n",
       "    }\n",
       "\n",
       "    .dataframe tbody tr th {\n",
       "        vertical-align: top;\n",
       "    }\n",
       "\n",
       "    .dataframe thead th {\n",
       "        text-align: right;\n",
       "    }\n",
       "</style>\n",
       "<table border=\"1\" class=\"dataframe\">\n",
       "  <thead>\n",
       "    <tr style=\"text-align: right;\">\n",
       "      <th></th>\n",
       "      <th>month</th>\n",
       "      <th>day</th>\n",
       "      <th>FFMC</th>\n",
       "      <th>DMC</th>\n",
       "      <th>DC</th>\n",
       "      <th>ISI</th>\n",
       "      <th>temp</th>\n",
       "      <th>RH</th>\n",
       "      <th>wind</th>\n",
       "      <th>rain</th>\n",
       "      <th>...</th>\n",
       "      <th>monthfeb</th>\n",
       "      <th>monthjan</th>\n",
       "      <th>monthjul</th>\n",
       "      <th>monthjun</th>\n",
       "      <th>monthmar</th>\n",
       "      <th>monthmay</th>\n",
       "      <th>monthnov</th>\n",
       "      <th>monthoct</th>\n",
       "      <th>monthsep</th>\n",
       "      <th>size_category</th>\n",
       "    </tr>\n",
       "  </thead>\n",
       "  <tbody>\n",
       "    <tr>\n",
       "      <th>0</th>\n",
       "      <td>mar</td>\n",
       "      <td>fri</td>\n",
       "      <td>86.2</td>\n",
       "      <td>26.2</td>\n",
       "      <td>94.3</td>\n",
       "      <td>5.1</td>\n",
       "      <td>8.2</td>\n",
       "      <td>51</td>\n",
       "      <td>6.7</td>\n",
       "      <td>0.0</td>\n",
       "      <td>...</td>\n",
       "      <td>0</td>\n",
       "      <td>0</td>\n",
       "      <td>0</td>\n",
       "      <td>0</td>\n",
       "      <td>1</td>\n",
       "      <td>0</td>\n",
       "      <td>0</td>\n",
       "      <td>0</td>\n",
       "      <td>0</td>\n",
       "      <td>small</td>\n",
       "    </tr>\n",
       "    <tr>\n",
       "      <th>1</th>\n",
       "      <td>oct</td>\n",
       "      <td>tue</td>\n",
       "      <td>90.6</td>\n",
       "      <td>35.4</td>\n",
       "      <td>669.1</td>\n",
       "      <td>6.7</td>\n",
       "      <td>18.0</td>\n",
       "      <td>33</td>\n",
       "      <td>0.9</td>\n",
       "      <td>0.0</td>\n",
       "      <td>...</td>\n",
       "      <td>0</td>\n",
       "      <td>0</td>\n",
       "      <td>0</td>\n",
       "      <td>0</td>\n",
       "      <td>0</td>\n",
       "      <td>0</td>\n",
       "      <td>0</td>\n",
       "      <td>1</td>\n",
       "      <td>0</td>\n",
       "      <td>small</td>\n",
       "    </tr>\n",
       "  </tbody>\n",
       "</table>\n",
       "<p>2 rows × 31 columns</p>\n",
       "</div>"
      ],
      "text/plain": [
       "  month  day  FFMC   DMC     DC  ISI  temp  RH  wind  rain  ...  monthfeb  \\\n",
       "0   mar  fri  86.2  26.2   94.3  5.1   8.2  51   6.7   0.0  ...         0   \n",
       "1   oct  tue  90.6  35.4  669.1  6.7  18.0  33   0.9   0.0  ...         0   \n",
       "\n",
       "   monthjan  monthjul  monthjun  monthmar  monthmay  monthnov  monthoct  \\\n",
       "0         0         0         0         1         0         0         0   \n",
       "1         0         0         0         0         0         0         1   \n",
       "\n",
       "   monthsep  size_category  \n",
       "0         0          small  \n",
       "1         0          small  \n",
       "\n",
       "[2 rows x 31 columns]"
      ]
     },
     "execution_count": 3,
     "metadata": {},
     "output_type": "execute_result"
    }
   ],
   "source": [
    "df.head(2)"
   ]
  },
  {
   "cell_type": "code",
   "execution_count": 4,
   "id": "db932c30",
   "metadata": {},
   "outputs": [],
   "source": [
    "df=df.drop(columns=['month','day'], axis=1)"
   ]
  },
  {
   "cell_type": "code",
   "execution_count": 5,
   "id": "0c67044d",
   "metadata": {},
   "outputs": [
    {
     "data": {
      "text/plain": [
       "Index(['FFMC', 'DMC', 'DC', 'ISI', 'temp', 'RH', 'wind', 'rain', 'area',\n",
       "       'dayfri', 'daymon', 'daysat', 'daysun', 'daythu', 'daytue', 'daywed',\n",
       "       'monthapr', 'monthaug', 'monthdec', 'monthfeb', 'monthjan', 'monthjul',\n",
       "       'monthjun', 'monthmar', 'monthmay', 'monthnov', 'monthoct', 'monthsep',\n",
       "       'size_category'],\n",
       "      dtype='object')"
      ]
     },
     "execution_count": 5,
     "metadata": {},
     "output_type": "execute_result"
    }
   ],
   "source": [
    "df.columns"
   ]
  },
  {
   "cell_type": "code",
   "execution_count": 6,
   "id": "5a5ac38d",
   "metadata": {},
   "outputs": [
    {
     "data": {
      "text/plain": [
       "small    378\n",
       "large    139\n",
       "Name: size_category, dtype: int64"
      ]
     },
     "execution_count": 6,
     "metadata": {},
     "output_type": "execute_result"
    }
   ],
   "source": [
    "df.size_category.value_counts()"
   ]
  },
  {
   "cell_type": "code",
   "execution_count": 7,
   "id": "47c336e7",
   "metadata": {},
   "outputs": [
    {
     "data": {
      "text/plain": [
       "0.00     247\n",
       "1.94       3\n",
       "28.66      2\n",
       "0.52       2\n",
       "9.96       2\n",
       "        ... \n",
       "2.21       1\n",
       "7.36       1\n",
       "0.24       1\n",
       "6.84       1\n",
       "35.88      1\n",
       "Name: area, Length: 251, dtype: int64"
      ]
     },
     "execution_count": 7,
     "metadata": {},
     "output_type": "execute_result"
    }
   ],
   "source": [
    "df.area.value_counts()"
   ]
  },
  {
   "cell_type": "code",
   "execution_count": 8,
   "id": "9ec4acac",
   "metadata": {},
   "outputs": [],
   "source": [
    "from sklearn.model_selection import train_test_split\n",
    "from tensorflow.keras.models import Sequential\n",
    "from tensorflow.keras.layers import Dense\n",
    "import numpy"
   ]
  },
  {
   "cell_type": "code",
   "execution_count": 9,
   "id": "3f0c106a",
   "metadata": {},
   "outputs": [],
   "source": [
    "from sklearn.metrics import classification_report\n",
    "from sklearn import preprocessing\n",
    "label_encoder = preprocessing.LabelEncoder()\n",
    "df['size_category']= label_encoder.fit_transform(df['size_category'])"
   ]
  },
  {
   "cell_type": "code",
   "execution_count": 10,
   "id": "0abb0e49",
   "metadata": {},
   "outputs": [],
   "source": [
    "X = df.drop('size_category', axis=1).values\n",
    "y = df['size_category'].values"
   ]
  },
  {
   "cell_type": "code",
   "execution_count": 11,
   "id": "3c879482",
   "metadata": {},
   "outputs": [],
   "source": [
    "from sklearn.model_selection import train_test_split\n",
    "X_train, X_test, y_train, y_test = train_test_split(X, y, test_size = 0.20)"
   ]
  },
  {
   "cell_type": "code",
   "execution_count": 12,
   "id": "30b72568",
   "metadata": {},
   "outputs": [],
   "source": [
    "import tensorflow as tf"
   ]
  },
  {
   "cell_type": "code",
   "execution_count": 13,
   "id": "b7ff2df8",
   "metadata": {},
   "outputs": [],
   "source": [
    "ann = tf.keras.models.Sequential()\n",
    "ann.add(tf.keras.layers.Dense(units=42, activation='relu'))\n",
    "ann.add(tf.keras.layers.Dense(units=28, activation='relu'))\n",
    "ann.add(tf.keras.layers.Dense(units=1, activation='sigmoid'))"
   ]
  },
  {
   "cell_type": "code",
   "execution_count": 14,
   "id": "89c245e0",
   "metadata": {},
   "outputs": [],
   "source": [
    "# Compile model\n",
    "ann.compile(loss='binary_crossentropy', optimizer='adam', metrics=['accuracy'])"
   ]
  },
  {
   "cell_type": "code",
   "execution_count": 15,
   "id": "7ba76b61",
   "metadata": {},
   "outputs": [
    {
     "name": "stdout",
     "output_type": "stream",
     "text": [
      "Epoch 1/180\n",
      "28/28 [==============================] - 1s 14ms/step - loss: 10.5303 - accuracy: 0.6775 - val_loss: 1.9311 - val_accuracy: 0.7664\n",
      "Epoch 2/180\n",
      "28/28 [==============================] - 0s 3ms/step - loss: 0.9975 - accuracy: 0.7391 - val_loss: 0.4255 - val_accuracy: 0.8686\n",
      "Epoch 3/180\n",
      "28/28 [==============================] - 0s 3ms/step - loss: 0.3780 - accuracy: 0.8442 - val_loss: 0.3469 - val_accuracy: 0.8686\n",
      "Epoch 4/180\n",
      "28/28 [==============================] - 0s 3ms/step - loss: 0.2901 - accuracy: 0.8986 - val_loss: 0.4623 - val_accuracy: 0.7518\n",
      "Epoch 5/180\n",
      "28/28 [==============================] - 0s 3ms/step - loss: 0.4186 - accuracy: 0.8659 - val_loss: 0.3517 - val_accuracy: 0.8613\n",
      "Epoch 6/180\n",
      "28/28 [==============================] - 0s 3ms/step - loss: 0.2580 - accuracy: 0.9058 - val_loss: 0.2271 - val_accuracy: 0.9270\n",
      "Epoch 7/180\n",
      "28/28 [==============================] - 0s 4ms/step - loss: 0.2456 - accuracy: 0.9022 - val_loss: 0.1976 - val_accuracy: 0.9197\n",
      "Epoch 8/180\n",
      "28/28 [==============================] - 0s 3ms/step - loss: 0.2930 - accuracy: 0.8696 - val_loss: 0.2560 - val_accuracy: 0.8759\n",
      "Epoch 9/180\n",
      "28/28 [==============================] - 0s 3ms/step - loss: 0.1703 - accuracy: 0.9312 - val_loss: 0.1809 - val_accuracy: 0.9270\n",
      "Epoch 10/180\n",
      "28/28 [==============================] - 0s 3ms/step - loss: 0.1688 - accuracy: 0.9420 - val_loss: 0.1544 - val_accuracy: 0.9562\n",
      "Epoch 11/180\n",
      "28/28 [==============================] - 0s 3ms/step - loss: 0.2180 - accuracy: 0.9203 - val_loss: 0.4263 - val_accuracy: 0.7810\n",
      "Epoch 12/180\n",
      "28/28 [==============================] - 0s 3ms/step - loss: 0.2536 - accuracy: 0.8986 - val_loss: 0.1597 - val_accuracy: 0.9416\n",
      "Epoch 13/180\n",
      "28/28 [==============================] - 0s 3ms/step - loss: 0.1426 - accuracy: 0.9420 - val_loss: 0.1893 - val_accuracy: 0.9270\n",
      "Epoch 14/180\n",
      "28/28 [==============================] - 0s 3ms/step - loss: 0.1603 - accuracy: 0.9384 - val_loss: 0.1629 - val_accuracy: 0.9635\n",
      "Epoch 15/180\n",
      "28/28 [==============================] - 0s 3ms/step - loss: 0.1431 - accuracy: 0.9457 - val_loss: 0.3327 - val_accuracy: 0.8832\n",
      "Epoch 16/180\n",
      "28/28 [==============================] - 0s 4ms/step - loss: 0.1999 - accuracy: 0.9275 - val_loss: 0.1133 - val_accuracy: 0.9562\n",
      "Epoch 17/180\n",
      "28/28 [==============================] - 0s 5ms/step - loss: 0.1501 - accuracy: 0.9565 - val_loss: 0.1515 - val_accuracy: 0.9635\n",
      "Epoch 18/180\n",
      "28/28 [==============================] - 0s 4ms/step - loss: 0.1003 - accuracy: 0.9674 - val_loss: 0.1704 - val_accuracy: 0.9343\n",
      "Epoch 19/180\n",
      "28/28 [==============================] - 0s 3ms/step - loss: 0.1126 - accuracy: 0.9529 - val_loss: 0.1237 - val_accuracy: 0.9562\n",
      "Epoch 20/180\n",
      "28/28 [==============================] - 0s 3ms/step - loss: 0.1029 - accuracy: 0.9674 - val_loss: 0.2223 - val_accuracy: 0.9124\n",
      "Epoch 21/180\n",
      "28/28 [==============================] - 0s 3ms/step - loss: 0.1740 - accuracy: 0.9348 - val_loss: 0.2568 - val_accuracy: 0.8905\n",
      "Epoch 22/180\n",
      "28/28 [==============================] - 0s 3ms/step - loss: 0.2159 - accuracy: 0.9420 - val_loss: 0.1495 - val_accuracy: 0.9489\n",
      "Epoch 23/180\n",
      "28/28 [==============================] - 0s 4ms/step - loss: 0.1848 - accuracy: 0.9420 - val_loss: 0.7875 - val_accuracy: 0.6496\n",
      "Epoch 24/180\n",
      "28/28 [==============================] - 0s 3ms/step - loss: 0.2764 - accuracy: 0.9058 - val_loss: 0.8692 - val_accuracy: 0.8686\n",
      "Epoch 25/180\n",
      "28/28 [==============================] - 0s 3ms/step - loss: 0.3547 - accuracy: 0.8949 - val_loss: 0.4454 - val_accuracy: 0.8832\n",
      "Epoch 26/180\n",
      "28/28 [==============================] - 0s 3ms/step - loss: 0.1152 - accuracy: 0.9457 - val_loss: 0.0661 - val_accuracy: 0.9854\n",
      "Epoch 27/180\n",
      "28/28 [==============================] - 0s 3ms/step - loss: 0.0725 - accuracy: 0.9674 - val_loss: 0.0847 - val_accuracy: 0.9708\n",
      "Epoch 28/180\n",
      "28/28 [==============================] - 0s 2ms/step - loss: 0.1533 - accuracy: 0.9420 - val_loss: 0.2808 - val_accuracy: 0.8905\n",
      "Epoch 29/180\n",
      "28/28 [==============================] - 0s 3ms/step - loss: 0.2026 - accuracy: 0.9275 - val_loss: 0.3375 - val_accuracy: 0.8467\n",
      "Epoch 30/180\n",
      "28/28 [==============================] - 0s 3ms/step - loss: 0.0820 - accuracy: 0.9710 - val_loss: 0.0514 - val_accuracy: 0.9854\n",
      "Epoch 31/180\n",
      "28/28 [==============================] - 0s 3ms/step - loss: 0.0636 - accuracy: 0.9638 - val_loss: 0.0529 - val_accuracy: 0.9927\n",
      "Epoch 32/180\n",
      "28/28 [==============================] - 0s 3ms/step - loss: 0.0490 - accuracy: 0.9891 - val_loss: 0.3090 - val_accuracy: 0.8905\n",
      "Epoch 33/180\n",
      "28/28 [==============================] - 0s 3ms/step - loss: 0.0778 - accuracy: 0.9783 - val_loss: 0.0547 - val_accuracy: 0.9927\n",
      "Epoch 34/180\n",
      "28/28 [==============================] - 0s 3ms/step - loss: 0.0639 - accuracy: 0.9783 - val_loss: 0.1232 - val_accuracy: 0.9562\n",
      "Epoch 35/180\n",
      "28/28 [==============================] - 0s 3ms/step - loss: 0.1100 - accuracy: 0.9601 - val_loss: 0.0473 - val_accuracy: 0.9854\n",
      "Epoch 36/180\n",
      "28/28 [==============================] - 0s 3ms/step - loss: 0.0817 - accuracy: 0.9674 - val_loss: 0.1449 - val_accuracy: 0.9489\n",
      "Epoch 37/180\n",
      "28/28 [==============================] - 0s 3ms/step - loss: 0.2180 - accuracy: 0.9348 - val_loss: 0.1463 - val_accuracy: 0.9562\n",
      "Epoch 38/180\n",
      "28/28 [==============================] - 0s 3ms/step - loss: 0.1189 - accuracy: 0.9674 - val_loss: 0.0849 - val_accuracy: 0.9708\n",
      "Epoch 39/180\n",
      "28/28 [==============================] - 0s 3ms/step - loss: 0.0586 - accuracy: 0.9783 - val_loss: 0.0613 - val_accuracy: 0.9781\n",
      "Epoch 40/180\n",
      "28/28 [==============================] - 0s 3ms/step - loss: 0.0632 - accuracy: 0.9746 - val_loss: 0.0465 - val_accuracy: 0.9854\n",
      "Epoch 41/180\n",
      "28/28 [==============================] - 0s 3ms/step - loss: 0.0485 - accuracy: 0.9891 - val_loss: 0.0449 - val_accuracy: 0.9854\n",
      "Epoch 42/180\n",
      "28/28 [==============================] - 0s 3ms/step - loss: 0.0748 - accuracy: 0.9710 - val_loss: 0.0431 - val_accuracy: 0.9854\n",
      "Epoch 43/180\n",
      "28/28 [==============================] - 0s 3ms/step - loss: 0.0598 - accuracy: 0.9783 - val_loss: 0.0683 - val_accuracy: 0.9781\n",
      "Epoch 44/180\n",
      "28/28 [==============================] - 0s 3ms/step - loss: 0.0466 - accuracy: 0.9783 - val_loss: 0.0574 - val_accuracy: 0.9708\n",
      "Epoch 45/180\n",
      "28/28 [==============================] - 0s 3ms/step - loss: 0.0335 - accuracy: 0.9891 - val_loss: 0.0377 - val_accuracy: 0.9854\n",
      "Epoch 46/180\n",
      "28/28 [==============================] - 0s 3ms/step - loss: 0.0715 - accuracy: 0.9783 - val_loss: 0.0417 - val_accuracy: 0.9854\n",
      "Epoch 47/180\n",
      "28/28 [==============================] - 0s 3ms/step - loss: 0.0717 - accuracy: 0.9819 - val_loss: 0.0397 - val_accuracy: 0.9854\n",
      "Epoch 48/180\n",
      "28/28 [==============================] - 0s 3ms/step - loss: 0.0441 - accuracy: 0.9819 - val_loss: 0.0941 - val_accuracy: 0.9635\n",
      "Epoch 49/180\n",
      "28/28 [==============================] - 0s 3ms/step - loss: 0.0416 - accuracy: 0.9855 - val_loss: 0.0370 - val_accuracy: 0.9927\n",
      "Epoch 50/180\n",
      "28/28 [==============================] - 0s 3ms/step - loss: 0.0728 - accuracy: 0.9710 - val_loss: 0.0946 - val_accuracy: 0.9708\n",
      "Epoch 51/180\n",
      "28/28 [==============================] - 0s 3ms/step - loss: 0.0959 - accuracy: 0.9565 - val_loss: 0.0723 - val_accuracy: 0.9708\n",
      "Epoch 52/180\n",
      "28/28 [==============================] - 0s 3ms/step - loss: 0.0393 - accuracy: 0.9891 - val_loss: 0.0437 - val_accuracy: 0.9854\n",
      "Epoch 53/180\n",
      "28/28 [==============================] - 0s 3ms/step - loss: 0.0690 - accuracy: 0.9674 - val_loss: 0.1238 - val_accuracy: 0.9416\n",
      "Epoch 54/180\n",
      "28/28 [==============================] - 0s 3ms/step - loss: 0.0512 - accuracy: 0.9891 - val_loss: 0.0790 - val_accuracy: 0.9708\n",
      "Epoch 55/180\n",
      "28/28 [==============================] - 0s 3ms/step - loss: 0.1207 - accuracy: 0.9565 - val_loss: 0.3388 - val_accuracy: 0.8978\n",
      "Epoch 56/180\n",
      "28/28 [==============================] - 0s 3ms/step - loss: 0.3644 - accuracy: 0.8913 - val_loss: 0.2179 - val_accuracy: 0.9343\n",
      "Epoch 57/180\n",
      "28/28 [==============================] - 0s 3ms/step - loss: 0.2148 - accuracy: 0.9529 - val_loss: 0.1032 - val_accuracy: 0.9708\n",
      "Epoch 58/180\n",
      "28/28 [==============================] - 0s 3ms/step - loss: 0.1307 - accuracy: 0.9493 - val_loss: 0.0402 - val_accuracy: 0.9854\n"
     ]
    },
    {
     "name": "stdout",
     "output_type": "stream",
     "text": [
      "Epoch 59/180\n",
      "28/28 [==============================] - 0s 3ms/step - loss: 0.0301 - accuracy: 0.9855 - val_loss: 0.1179 - val_accuracy: 0.9416\n",
      "Epoch 60/180\n",
      "28/28 [==============================] - 0s 3ms/step - loss: 0.0466 - accuracy: 0.9783 - val_loss: 0.1184 - val_accuracy: 0.9416\n",
      "Epoch 61/180\n",
      "28/28 [==============================] - 0s 3ms/step - loss: 0.0291 - accuracy: 0.9891 - val_loss: 0.0452 - val_accuracy: 0.9854\n",
      "Epoch 62/180\n",
      "28/28 [==============================] - 0s 3ms/step - loss: 0.0341 - accuracy: 0.9891 - val_loss: 0.0353 - val_accuracy: 0.9854\n",
      "Epoch 63/180\n",
      "28/28 [==============================] - 0s 3ms/step - loss: 0.0771 - accuracy: 0.9710 - val_loss: 0.0510 - val_accuracy: 0.9781\n",
      "Epoch 64/180\n",
      "28/28 [==============================] - 0s 3ms/step - loss: 0.0426 - accuracy: 0.9819 - val_loss: 0.0960 - val_accuracy: 0.9416\n",
      "Epoch 65/180\n",
      "28/28 [==============================] - 0s 3ms/step - loss: 0.0575 - accuracy: 0.9783 - val_loss: 0.1051 - val_accuracy: 0.9562\n",
      "Epoch 66/180\n",
      "28/28 [==============================] - 0s 3ms/step - loss: 0.0921 - accuracy: 0.9601 - val_loss: 0.0449 - val_accuracy: 0.9781\n",
      "Epoch 67/180\n",
      "28/28 [==============================] - 0s 3ms/step - loss: 0.0251 - accuracy: 0.9891 - val_loss: 0.0710 - val_accuracy: 0.9781\n",
      "Epoch 68/180\n",
      "28/28 [==============================] - 0s 3ms/step - loss: 0.0541 - accuracy: 0.9783 - val_loss: 0.1872 - val_accuracy: 0.9416\n",
      "Epoch 69/180\n",
      "28/28 [==============================] - 0s 3ms/step - loss: 0.1443 - accuracy: 0.9529 - val_loss: 0.0351 - val_accuracy: 0.9854\n",
      "Epoch 70/180\n",
      "28/28 [==============================] - 0s 3ms/step - loss: 0.0257 - accuracy: 0.9928 - val_loss: 0.0308 - val_accuracy: 0.9927\n",
      "Epoch 71/180\n",
      "28/28 [==============================] - 0s 3ms/step - loss: 0.0553 - accuracy: 0.9819 - val_loss: 0.0353 - val_accuracy: 0.9927\n",
      "Epoch 72/180\n",
      "28/28 [==============================] - 0s 3ms/step - loss: 0.0261 - accuracy: 0.9928 - val_loss: 0.0360 - val_accuracy: 0.9854\n",
      "Epoch 73/180\n",
      "28/28 [==============================] - 0s 3ms/step - loss: 0.0332 - accuracy: 0.9891 - val_loss: 0.0644 - val_accuracy: 0.9781\n",
      "Epoch 74/180\n",
      "28/28 [==============================] - 0s 3ms/step - loss: 0.0289 - accuracy: 0.9855 - val_loss: 0.0353 - val_accuracy: 0.9854\n",
      "Epoch 75/180\n",
      "28/28 [==============================] - 0s 3ms/step - loss: 0.0367 - accuracy: 0.9855 - val_loss: 0.4514 - val_accuracy: 0.8467\n",
      "Epoch 76/180\n",
      "28/28 [==============================] - 0s 3ms/step - loss: 0.7454 - accuracy: 0.8913 - val_loss: 0.5872 - val_accuracy: 0.8832\n",
      "Epoch 77/180\n",
      "28/28 [==============================] - 0s 4ms/step - loss: 0.1906 - accuracy: 0.9493 - val_loss: 0.1151 - val_accuracy: 0.9708\n",
      "Epoch 78/180\n",
      "28/28 [==============================] - 0s 6ms/step - loss: 0.0202 - accuracy: 0.9964 - val_loss: 0.0639 - val_accuracy: 0.9708\n",
      "Epoch 79/180\n",
      "28/28 [==============================] - 0s 3ms/step - loss: 0.0238 - accuracy: 0.9891 - val_loss: 0.0718 - val_accuracy: 0.9708\n",
      "Epoch 80/180\n",
      "28/28 [==============================] - 0s 3ms/step - loss: 0.0470 - accuracy: 0.9855 - val_loss: 0.1558 - val_accuracy: 0.9562\n",
      "Epoch 81/180\n",
      "28/28 [==============================] - 0s 3ms/step - loss: 0.1294 - accuracy: 0.9601 - val_loss: 0.0735 - val_accuracy: 0.9708\n",
      "Epoch 82/180\n",
      "28/28 [==============================] - 0s 3ms/step - loss: 0.0297 - accuracy: 0.9928 - val_loss: 0.0813 - val_accuracy: 0.9635\n",
      "Epoch 83/180\n",
      "28/28 [==============================] - 0s 3ms/step - loss: 0.0396 - accuracy: 0.9891 - val_loss: 0.0569 - val_accuracy: 0.9708\n",
      "Epoch 84/180\n",
      "28/28 [==============================] - 0s 3ms/step - loss: 0.1245 - accuracy: 0.9565 - val_loss: 0.0614 - val_accuracy: 0.9781\n",
      "Epoch 85/180\n",
      "28/28 [==============================] - 0s 3ms/step - loss: 0.0467 - accuracy: 0.9746 - val_loss: 0.0537 - val_accuracy: 0.9781\n",
      "Epoch 86/180\n",
      "28/28 [==============================] - 0s 3ms/step - loss: 0.0575 - accuracy: 0.9819 - val_loss: 0.0844 - val_accuracy: 0.9708\n",
      "Epoch 87/180\n",
      "28/28 [==============================] - 0s 3ms/step - loss: 0.1593 - accuracy: 0.9638 - val_loss: 0.0825 - val_accuracy: 0.9708\n",
      "Epoch 88/180\n",
      "28/28 [==============================] - 0s 3ms/step - loss: 0.0702 - accuracy: 0.9819 - val_loss: 0.0453 - val_accuracy: 0.9781\n",
      "Epoch 89/180\n",
      "28/28 [==============================] - 0s 3ms/step - loss: 0.0289 - accuracy: 0.9891 - val_loss: 0.0399 - val_accuracy: 0.9854\n",
      "Epoch 90/180\n",
      "28/28 [==============================] - 0s 3ms/step - loss: 0.0230 - accuracy: 0.9964 - val_loss: 0.0412 - val_accuracy: 0.9781\n",
      "Epoch 91/180\n",
      "28/28 [==============================] - 0s 3ms/step - loss: 0.0220 - accuracy: 0.9928 - val_loss: 0.1749 - val_accuracy: 0.9489\n",
      "Epoch 92/180\n",
      "28/28 [==============================] - 0s 3ms/step - loss: 0.0261 - accuracy: 0.9891 - val_loss: 0.0382 - val_accuracy: 0.9854\n",
      "Epoch 93/180\n",
      "28/28 [==============================] - 0s 3ms/step - loss: 0.0118 - accuracy: 0.9964 - val_loss: 0.0724 - val_accuracy: 0.9708\n",
      "Epoch 94/180\n",
      "28/28 [==============================] - 0s 3ms/step - loss: 0.0187 - accuracy: 0.9964 - val_loss: 0.0655 - val_accuracy: 0.9708\n",
      "Epoch 95/180\n",
      "28/28 [==============================] - 0s 4ms/step - loss: 0.0386 - accuracy: 0.9783 - val_loss: 0.1240 - val_accuracy: 0.9708\n",
      "Epoch 96/180\n",
      "28/28 [==============================] - 0s 4ms/step - loss: 0.0352 - accuracy: 0.9855 - val_loss: 0.0523 - val_accuracy: 0.9708\n",
      "Epoch 97/180\n",
      "28/28 [==============================] - 0s 3ms/step - loss: 0.1639 - accuracy: 0.9529 - val_loss: 1.4870 - val_accuracy: 0.6934\n",
      "Epoch 98/180\n",
      "28/28 [==============================] - 0s 4ms/step - loss: 0.5038 - accuracy: 0.9130 - val_loss: 0.0588 - val_accuracy: 0.9781\n",
      "Epoch 99/180\n",
      "28/28 [==============================] - 0s 3ms/step - loss: 0.5570 - accuracy: 0.9022 - val_loss: 0.7547 - val_accuracy: 0.8832\n",
      "Epoch 100/180\n",
      "28/28 [==============================] - 0s 3ms/step - loss: 0.3468 - accuracy: 0.9384 - val_loss: 0.1124 - val_accuracy: 0.9708\n",
      "Epoch 101/180\n",
      "28/28 [==============================] - 0s 3ms/step - loss: 0.1031 - accuracy: 0.9746 - val_loss: 0.1618 - val_accuracy: 0.9562\n",
      "Epoch 102/180\n",
      "28/28 [==============================] - 0s 3ms/step - loss: 0.0363 - accuracy: 0.9783 - val_loss: 0.1127 - val_accuracy: 0.9708\n",
      "Epoch 103/180\n",
      "28/28 [==============================] - 0s 3ms/step - loss: 0.1109 - accuracy: 0.9601 - val_loss: 0.1430 - val_accuracy: 0.9708\n",
      "Epoch 104/180\n",
      "28/28 [==============================] - 0s 4ms/step - loss: 0.1943 - accuracy: 0.9529 - val_loss: 0.3911 - val_accuracy: 0.9051\n",
      "Epoch 105/180\n",
      "28/28 [==============================] - 0s 3ms/step - loss: 0.4480 - accuracy: 0.9167 - val_loss: 0.3431 - val_accuracy: 0.9270\n",
      "Epoch 106/180\n",
      "28/28 [==============================] - 0s 3ms/step - loss: 0.1852 - accuracy: 0.9601 - val_loss: 0.8267 - val_accuracy: 0.8102\n",
      "Epoch 107/180\n",
      "28/28 [==============================] - 0s 3ms/step - loss: 0.1848 - accuracy: 0.9457 - val_loss: 0.0974 - val_accuracy: 0.9781\n",
      "Epoch 108/180\n",
      "28/28 [==============================] - 0s 3ms/step - loss: 0.0338 - accuracy: 0.9855 - val_loss: 0.1730 - val_accuracy: 0.9635\n",
      "Epoch 109/180\n",
      "28/28 [==============================] - 0s 3ms/step - loss: 0.0444 - accuracy: 0.9891 - val_loss: 0.0638 - val_accuracy: 0.9781\n",
      "Epoch 110/180\n",
      "28/28 [==============================] - 0s 3ms/step - loss: 0.0199 - accuracy: 0.9891 - val_loss: 0.0664 - val_accuracy: 0.9854\n",
      "Epoch 111/180\n",
      "28/28 [==============================] - 0s 3ms/step - loss: 0.0157 - accuracy: 0.9928 - val_loss: 0.0819 - val_accuracy: 0.9635\n",
      "Epoch 112/180\n",
      "28/28 [==============================] - 0s 3ms/step - loss: 0.0121 - accuracy: 0.9964 - val_loss: 0.1699 - val_accuracy: 0.9416\n",
      "Epoch 113/180\n",
      "28/28 [==============================] - 0s 3ms/step - loss: 0.0296 - accuracy: 0.9819 - val_loss: 0.0438 - val_accuracy: 0.9781\n",
      "Epoch 114/180\n",
      "28/28 [==============================] - 0s 3ms/step - loss: 0.0104 - accuracy: 1.0000 - val_loss: 0.0958 - val_accuracy: 0.9708\n",
      "Epoch 115/180\n",
      "28/28 [==============================] - 0s 3ms/step - loss: 0.0148 - accuracy: 0.9928 - val_loss: 0.0449 - val_accuracy: 0.9854\n",
      "Epoch 116/180\n"
     ]
    },
    {
     "name": "stdout",
     "output_type": "stream",
     "text": [
      "28/28 [==============================] - 0s 3ms/step - loss: 0.0092 - accuracy: 0.9964 - val_loss: 0.0574 - val_accuracy: 0.9708\n",
      "Epoch 117/180\n",
      "28/28 [==============================] - 0s 3ms/step - loss: 0.0254 - accuracy: 0.9891 - val_loss: 0.0612 - val_accuracy: 0.9635\n",
      "Epoch 118/180\n",
      "28/28 [==============================] - 0s 3ms/step - loss: 0.0086 - accuracy: 0.9964 - val_loss: 0.0742 - val_accuracy: 0.9635\n",
      "Epoch 119/180\n",
      "28/28 [==============================] - 0s 3ms/step - loss: 0.0086 - accuracy: 1.0000 - val_loss: 0.0539 - val_accuracy: 0.9708\n",
      "Epoch 120/180\n",
      "28/28 [==============================] - 0s 3ms/step - loss: 0.0069 - accuracy: 1.0000 - val_loss: 0.0971 - val_accuracy: 0.9708\n",
      "Epoch 121/180\n",
      "28/28 [==============================] - 0s 4ms/step - loss: 0.0214 - accuracy: 0.9928 - val_loss: 0.1034 - val_accuracy: 0.9708\n",
      "Epoch 122/180\n",
      "28/28 [==============================] - 0s 6ms/step - loss: 0.0100 - accuracy: 0.9964 - val_loss: 0.0467 - val_accuracy: 0.9781\n",
      "Epoch 123/180\n",
      "28/28 [==============================] - 0s 5ms/step - loss: 0.0241 - accuracy: 0.9855 - val_loss: 0.0436 - val_accuracy: 0.9781\n",
      "Epoch 124/180\n",
      "28/28 [==============================] - 0s 4ms/step - loss: 0.0158 - accuracy: 0.9928 - val_loss: 0.0708 - val_accuracy: 0.9635\n",
      "Epoch 125/180\n",
      "28/28 [==============================] - 0s 4ms/step - loss: 0.0128 - accuracy: 0.9928 - val_loss: 0.2784 - val_accuracy: 0.9343\n",
      "Epoch 126/180\n",
      "28/28 [==============================] - 0s 7ms/step - loss: 0.0387 - accuracy: 0.9819 - val_loss: 0.0614 - val_accuracy: 0.9781\n",
      "Epoch 127/180\n",
      "28/28 [==============================] - 0s 4ms/step - loss: 0.0102 - accuracy: 1.0000 - val_loss: 0.0668 - val_accuracy: 0.9635\n",
      "Epoch 128/180\n",
      "28/28 [==============================] - 0s 4ms/step - loss: 0.0101 - accuracy: 0.9964 - val_loss: 0.0619 - val_accuracy: 0.9781\n",
      "Epoch 129/180\n",
      "28/28 [==============================] - 0s 4ms/step - loss: 0.0962 - accuracy: 0.9674 - val_loss: 0.0816 - val_accuracy: 0.9781\n",
      "Epoch 130/180\n",
      "28/28 [==============================] - 0s 4ms/step - loss: 0.0848 - accuracy: 0.9674 - val_loss: 0.1421 - val_accuracy: 0.9635\n",
      "Epoch 131/180\n",
      "28/28 [==============================] - 0s 4ms/step - loss: 0.1000 - accuracy: 0.9710 - val_loss: 0.1857 - val_accuracy: 0.9562\n",
      "Epoch 132/180\n",
      "28/28 [==============================] - 0s 4ms/step - loss: 0.0619 - accuracy: 0.9746 - val_loss: 0.0512 - val_accuracy: 0.9781\n",
      "Epoch 133/180\n",
      "28/28 [==============================] - 0s 3ms/step - loss: 0.0095 - accuracy: 1.0000 - val_loss: 0.0521 - val_accuracy: 0.9781\n",
      "Epoch 134/180\n",
      "28/28 [==============================] - 0s 4ms/step - loss: 0.0153 - accuracy: 0.9928 - val_loss: 0.0929 - val_accuracy: 0.9781\n",
      "Epoch 135/180\n",
      "28/28 [==============================] - 0s 3ms/step - loss: 0.0452 - accuracy: 0.9891 - val_loss: 0.0784 - val_accuracy: 0.9781\n",
      "Epoch 136/180\n",
      "28/28 [==============================] - 0s 6ms/step - loss: 0.0428 - accuracy: 0.9819 - val_loss: 0.1325 - val_accuracy: 0.9708\n",
      "Epoch 137/180\n",
      "28/28 [==============================] - 0s 4ms/step - loss: 0.0121 - accuracy: 0.9928 - val_loss: 0.0785 - val_accuracy: 0.9635\n",
      "Epoch 138/180\n",
      "28/28 [==============================] - 0s 3ms/step - loss: 0.0114 - accuracy: 0.9964 - val_loss: 0.1982 - val_accuracy: 0.9562\n",
      "Epoch 139/180\n",
      "28/28 [==============================] - 0s 3ms/step - loss: 0.0139 - accuracy: 0.9928 - val_loss: 0.0959 - val_accuracy: 0.9635\n",
      "Epoch 140/180\n",
      "28/28 [==============================] - 0s 3ms/step - loss: 0.0063 - accuracy: 1.0000 - val_loss: 0.0832 - val_accuracy: 0.9635\n",
      "Epoch 141/180\n",
      "28/28 [==============================] - 0s 3ms/step - loss: 0.0616 - accuracy: 0.9783 - val_loss: 0.0536 - val_accuracy: 0.9708\n",
      "Epoch 142/180\n",
      "28/28 [==============================] - 0s 3ms/step - loss: 0.0086 - accuracy: 1.0000 - val_loss: 0.1830 - val_accuracy: 0.9708\n",
      "Epoch 143/180\n",
      "28/28 [==============================] - 0s 3ms/step - loss: 0.0302 - accuracy: 0.9891 - val_loss: 0.0817 - val_accuracy: 0.9781\n",
      "Epoch 144/180\n",
      "28/28 [==============================] - 0s 3ms/step - loss: 0.0859 - accuracy: 0.9710 - val_loss: 0.0939 - val_accuracy: 0.9635\n",
      "Epoch 145/180\n",
      "28/28 [==============================] - 0s 3ms/step - loss: 0.0291 - accuracy: 0.9891 - val_loss: 0.0975 - val_accuracy: 0.9635\n",
      "Epoch 146/180\n",
      "28/28 [==============================] - 0s 3ms/step - loss: 0.0263 - accuracy: 0.9891 - val_loss: 0.0421 - val_accuracy: 0.9854\n",
      "Epoch 147/180\n",
      "28/28 [==============================] - 0s 3ms/step - loss: 0.0180 - accuracy: 0.9928 - val_loss: 0.0559 - val_accuracy: 0.9708\n",
      "Epoch 148/180\n",
      "28/28 [==============================] - 0s 3ms/step - loss: 0.0210 - accuracy: 0.9891 - val_loss: 0.0436 - val_accuracy: 0.9708\n",
      "Epoch 149/180\n",
      "28/28 [==============================] - 0s 3ms/step - loss: 0.0081 - accuracy: 1.0000 - val_loss: 0.0492 - val_accuracy: 0.9635\n",
      "Epoch 150/180\n",
      "28/28 [==============================] - 0s 3ms/step - loss: 0.0062 - accuracy: 1.0000 - val_loss: 0.0876 - val_accuracy: 0.9708\n",
      "Epoch 151/180\n",
      "28/28 [==============================] - 0s 3ms/step - loss: 0.0152 - accuracy: 0.9964 - val_loss: 0.0427 - val_accuracy: 0.9854\n",
      "Epoch 152/180\n",
      "28/28 [==============================] - 0s 3ms/step - loss: 0.0335 - accuracy: 0.9891 - val_loss: 0.1264 - val_accuracy: 0.9708\n",
      "Epoch 153/180\n",
      "28/28 [==============================] - 0s 3ms/step - loss: 0.0136 - accuracy: 0.9964 - val_loss: 0.0393 - val_accuracy: 0.9781\n",
      "Epoch 154/180\n",
      "28/28 [==============================] - 0s 3ms/step - loss: 0.0639 - accuracy: 0.9746 - val_loss: 0.0806 - val_accuracy: 0.9781\n",
      "Epoch 155/180\n",
      "28/28 [==============================] - 0s 3ms/step - loss: 0.0205 - accuracy: 0.9928 - val_loss: 0.0520 - val_accuracy: 0.9854\n",
      "Epoch 156/180\n",
      "28/28 [==============================] - 0s 3ms/step - loss: 0.0279 - accuracy: 0.9855 - val_loss: 0.0690 - val_accuracy: 0.9708\n",
      "Epoch 157/180\n",
      "28/28 [==============================] - 0s 3ms/step - loss: 0.0243 - accuracy: 0.9891 - val_loss: 0.0390 - val_accuracy: 0.9927\n",
      "Epoch 158/180\n",
      "28/28 [==============================] - 0s 3ms/step - loss: 0.0136 - accuracy: 0.9891 - val_loss: 0.0443 - val_accuracy: 0.9781\n",
      "Epoch 159/180\n",
      "28/28 [==============================] - 0s 3ms/step - loss: 0.0147 - accuracy: 0.9964 - val_loss: 0.0586 - val_accuracy: 0.9781\n",
      "Epoch 160/180\n",
      "28/28 [==============================] - 0s 3ms/step - loss: 0.0333 - accuracy: 0.9891 - val_loss: 0.2692 - val_accuracy: 0.9416\n",
      "Epoch 161/180\n",
      "28/28 [==============================] - 0s 3ms/step - loss: 0.1613 - accuracy: 0.9638 - val_loss: 0.1571 - val_accuracy: 0.9708\n",
      "Epoch 162/180\n",
      "28/28 [==============================] - 0s 3ms/step - loss: 0.0700 - accuracy: 0.9710 - val_loss: 0.0509 - val_accuracy: 0.9854\n",
      "Epoch 163/180\n",
      "28/28 [==============================] - 0s 3ms/step - loss: 0.0169 - accuracy: 0.9928 - val_loss: 0.2321 - val_accuracy: 0.9416\n",
      "Epoch 164/180\n",
      "28/28 [==============================] - 0s 3ms/step - loss: 0.0214 - accuracy: 0.9891 - val_loss: 0.2284 - val_accuracy: 0.9416\n",
      "Epoch 165/180\n",
      "28/28 [==============================] - 0s 3ms/step - loss: 0.0274 - accuracy: 0.9928 - val_loss: 0.0507 - val_accuracy: 0.9854\n",
      "Epoch 166/180\n",
      "28/28 [==============================] - 0s 3ms/step - loss: 0.0329 - accuracy: 0.9891 - val_loss: 0.1112 - val_accuracy: 0.9635\n",
      "Epoch 167/180\n",
      "28/28 [==============================] - 0s 3ms/step - loss: 0.0834 - accuracy: 0.9746 - val_loss: 0.0705 - val_accuracy: 0.9854\n",
      "Epoch 168/180\n",
      "28/28 [==============================] - 0s 3ms/step - loss: 0.0354 - accuracy: 0.9855 - val_loss: 0.1357 - val_accuracy: 0.9562\n",
      "Epoch 169/180\n",
      "28/28 [==============================] - 0s 3ms/step - loss: 0.0246 - accuracy: 0.9891 - val_loss: 0.1830 - val_accuracy: 0.9489\n",
      "Epoch 170/180\n",
      "28/28 [==============================] - 0s 3ms/step - loss: 0.0371 - accuracy: 0.9783 - val_loss: 0.0926 - val_accuracy: 0.9708\n",
      "Epoch 171/180\n",
      "28/28 [==============================] - 0s 3ms/step - loss: 0.0354 - accuracy: 0.9928 - val_loss: 0.1006 - val_accuracy: 0.9635\n",
      "Epoch 172/180\n",
      "28/28 [==============================] - 0s 3ms/step - loss: 0.0201 - accuracy: 0.9964 - val_loss: 0.0414 - val_accuracy: 0.9781\n",
      "Epoch 173/180\n"
     ]
    },
    {
     "name": "stdout",
     "output_type": "stream",
     "text": [
      "28/28 [==============================] - 0s 3ms/step - loss: 0.0131 - accuracy: 0.9964 - val_loss: 0.0317 - val_accuracy: 0.9781\n",
      "Epoch 174/180\n",
      "28/28 [==============================] - 0s 3ms/step - loss: 0.0449 - accuracy: 0.9855 - val_loss: 0.0808 - val_accuracy: 0.9781\n",
      "Epoch 175/180\n",
      "28/28 [==============================] - ETA: 0s - loss: 1.0885e-05 - accuracy: 1.00 - 0s 3ms/step - loss: 0.0173 - accuracy: 0.9891 - val_loss: 0.1174 - val_accuracy: 0.9708\n",
      "Epoch 176/180\n",
      "28/28 [==============================] - 0s 3ms/step - loss: 0.0053 - accuracy: 1.0000 - val_loss: 0.0525 - val_accuracy: 0.9708\n",
      "Epoch 177/180\n",
      "28/28 [==============================] - 0s 3ms/step - loss: 0.0089 - accuracy: 0.9964 - val_loss: 0.0364 - val_accuracy: 0.9708\n",
      "Epoch 178/180\n",
      "28/28 [==============================] - 0s 3ms/step - loss: 0.0036 - accuracy: 1.0000 - val_loss: 0.0420 - val_accuracy: 0.9708\n",
      "Epoch 179/180\n",
      "28/28 [==============================] - 0s 3ms/step - loss: 0.0037 - accuracy: 1.0000 - val_loss: 0.0447 - val_accuracy: 0.9854\n",
      "Epoch 180/180\n",
      "28/28 [==============================] - 0s 4ms/step - loss: 0.0096 - accuracy: 0.9964 - val_loss: 0.0797 - val_accuracy: 0.9635\n"
     ]
    }
   ],
   "source": [
    "# Fit the model\n",
    "history=ann.fit(X_train,y_train, validation_split=0.33, epochs=180, batch_size=10)"
   ]
  },
  {
   "cell_type": "code",
   "execution_count": 16,
   "id": "0a796b8e",
   "metadata": {},
   "outputs": [
    {
     "name": "stdout",
     "output_type": "stream",
     "text": [
      "13/13 [==============================] - 0s 1ms/step - loss: 0.0286 - accuracy: 0.9879\n",
      "accuracy: 98.79%\n"
     ]
    }
   ],
   "source": [
    "# evaluate the model\n",
    "scores = ann.evaluate(X_train, y_train)\n",
    "print(\"%s: %.2f%%\" % (ann.metrics_names[1], scores[1]*100))"
   ]
  },
  {
   "cell_type": "code",
   "execution_count": 17,
   "id": "c57916a1",
   "metadata": {},
   "outputs": [
    {
     "name": "stdout",
     "output_type": "stream",
     "text": [
      "4/4 [==============================] - 0s 3ms/step - loss: 0.1549 - accuracy: 0.9423\n",
      "accuracy: 94.23%\n"
     ]
    }
   ],
   "source": [
    "# evaluate the model\n",
    "scores = ann.evaluate(X_test, y_test)\n",
    "print(\"%s: %.2f%%\" % (ann.metrics_names[1], scores[1]*100))"
   ]
  },
  {
   "cell_type": "code",
   "execution_count": 18,
   "id": "52cb3750",
   "metadata": {},
   "outputs": [
    {
     "name": "stdout",
     "output_type": "stream",
     "text": [
      "dict_keys(['loss', 'accuracy', 'val_loss', 'val_accuracy'])\n"
     ]
    }
   ],
   "source": [
    "print(history.history.keys())"
   ]
  },
  {
   "cell_type": "code",
   "execution_count": 19,
   "id": "b0e309d0",
   "metadata": {},
   "outputs": [
    {
     "data": {
      "text/html": [
       "<div>\n",
       "<style scoped>\n",
       "    .dataframe tbody tr th:only-of-type {\n",
       "        vertical-align: middle;\n",
       "    }\n",
       "\n",
       "    .dataframe tbody tr th {\n",
       "        vertical-align: top;\n",
       "    }\n",
       "\n",
       "    .dataframe thead th {\n",
       "        text-align: right;\n",
       "    }\n",
       "</style>\n",
       "<table border=\"1\" class=\"dataframe\">\n",
       "  <thead>\n",
       "    <tr style=\"text-align: right;\">\n",
       "      <th></th>\n",
       "      <th>loss</th>\n",
       "      <th>accuracy</th>\n",
       "      <th>val_loss</th>\n",
       "      <th>val_accuracy</th>\n",
       "      <th>epoch</th>\n",
       "    </tr>\n",
       "  </thead>\n",
       "  <tbody>\n",
       "    <tr>\n",
       "      <th>175</th>\n",
       "      <td>0.005308</td>\n",
       "      <td>1.000000</td>\n",
       "      <td>0.052534</td>\n",
       "      <td>0.970803</td>\n",
       "      <td>175</td>\n",
       "    </tr>\n",
       "    <tr>\n",
       "      <th>176</th>\n",
       "      <td>0.008946</td>\n",
       "      <td>0.996377</td>\n",
       "      <td>0.036386</td>\n",
       "      <td>0.970803</td>\n",
       "      <td>176</td>\n",
       "    </tr>\n",
       "    <tr>\n",
       "      <th>177</th>\n",
       "      <td>0.003584</td>\n",
       "      <td>1.000000</td>\n",
       "      <td>0.042006</td>\n",
       "      <td>0.970803</td>\n",
       "      <td>177</td>\n",
       "    </tr>\n",
       "    <tr>\n",
       "      <th>178</th>\n",
       "      <td>0.003703</td>\n",
       "      <td>1.000000</td>\n",
       "      <td>0.044653</td>\n",
       "      <td>0.985401</td>\n",
       "      <td>178</td>\n",
       "    </tr>\n",
       "    <tr>\n",
       "      <th>179</th>\n",
       "      <td>0.009596</td>\n",
       "      <td>0.996377</td>\n",
       "      <td>0.079687</td>\n",
       "      <td>0.963504</td>\n",
       "      <td>179</td>\n",
       "    </tr>\n",
       "  </tbody>\n",
       "</table>\n",
       "</div>"
      ],
      "text/plain": [
       "         loss  accuracy  val_loss  val_accuracy  epoch\n",
       "175  0.005308  1.000000  0.052534      0.970803    175\n",
       "176  0.008946  0.996377  0.036386      0.970803    176\n",
       "177  0.003584  1.000000  0.042006      0.970803    177\n",
       "178  0.003703  1.000000  0.044653      0.985401    178\n",
       "179  0.009596  0.996377  0.079687      0.963504    179"
      ]
     },
     "execution_count": 19,
     "metadata": {},
     "output_type": "execute_result"
    }
   ],
   "source": [
    "hist_df = pd.DataFrame(history.history)\n",
    "hist_df[\"epoch\"]=history.epoch\n",
    "hist_df.tail()"
   ]
  },
  {
   "cell_type": "code",
   "execution_count": 20,
   "id": "cc434405",
   "metadata": {},
   "outputs": [],
   "source": [
    "ann.compile(loss=\"categorical_crossentropy\",\n",
    "              optimizer='rmsprop', metrics=[\"accuracy\"])"
   ]
  },
  {
   "cell_type": "code",
   "execution_count": 21,
   "id": "dfe496b5",
   "metadata": {},
   "outputs": [
    {
     "data": {
      "image/png": "[encoded data removed]",
      "text/plain": [
       "<Figure size 432x288 with 1 Axes>"
      ]
     },
     "metadata": {
      "needs_background": "light"
     },
     "output_type": "display_data"
    },
    {
     "data": {
      "image/png": "[encoded data removed]",
      "text/plain": [
       "<Figure size 432x288 with 1 Axes>"
      ]
     },
     "metadata": {
      "needs_background": "light"
     },
     "output_type": "display_data"
    }
   ],
   "source": [
    "# summarize history for accuracy\n",
    "plt.plot(history.history['accuracy'])\n",
    "plt.plot(history.history['val_accuracy'])\n",
    "plt.title('model accuracy')\n",
    "plt.ylabel('accuracy')\n",
    "plt.xlabel('epoch')\n",
    "plt.legend(['train', 'test'], loc='upper left')\n",
    "plt.show()\n",
    "# summarize history for loss\n",
    "plt.plot(history.history['loss'])\n",
    "plt.plot(history.history['val_loss'])\n",
    "plt.title('model loss')\n",
    "plt.ylabel('loss')\n",
    "plt.xlabel('epoch')\n",
    "plt.legend(['train', 'test'], loc='upper left')\n",
    "plt.show()"
   ]
  },
  {
   "cell_type": "markdown",
   "id": "fc19c7fe",
   "metadata": {},
   "source": [
    "Conclusion:\n",
    "\n",
    "We have predicted the result with 94.23% accuracy here epoch=180\n",
    "\n",
    "HYPER PARAMETER TUNING"
   ]
  },
  {
   "cell_type": "code",
   "execution_count": 22,
   "id": "86293fdb",
   "metadata": {},
   "outputs": [],
   "source": [
    "X1 = df.drop('size_category', axis=1).values\n",
    "y1 = df['size_category'].values"
   ]
  },
  {
   "cell_type": "code",
   "execution_count": 23,
   "id": "6ac8c36c",
   "metadata": {},
   "outputs": [],
   "source": [
    "from sklearn.preprocessing import StandardScaler"
   ]
  },
  {
   "cell_type": "code",
   "execution_count": 24,
   "id": "9cc809e5",
   "metadata": {},
   "outputs": [],
   "source": [
    "# Standardization\n",
    "a = StandardScaler()\n",
    "a.fit(X1)\n",
    "X_standardized = a.transform(X1)"
   ]
  },
  {
   "cell_type": "code",
   "execution_count": 25,
   "id": "30f1ab8f",
   "metadata": {},
   "outputs": [
    {
     "data": {
      "text/html": [
       "<div>\n",
       "<style scoped>\n",
       "    .dataframe tbody tr th:only-of-type {\n",
       "        vertical-align: middle;\n",
       "    }\n",
       "\n",
       "    .dataframe tbody tr th {\n",
       "        vertical-align: top;\n",
       "    }\n",
       "\n",
       "    .dataframe thead th {\n",
       "        text-align: right;\n",
       "    }\n",
       "</style>\n",
       "<table border=\"1\" class=\"dataframe\">\n",
       "  <thead>\n",
       "    <tr style=\"text-align: right;\">\n",
       "      <th></th>\n",
       "      <th>0</th>\n",
       "      <th>1</th>\n",
       "      <th>2</th>\n",
       "      <th>3</th>\n",
       "      <th>4</th>\n",
       "      <th>5</th>\n",
       "      <th>6</th>\n",
       "      <th>7</th>\n",
       "      <th>8</th>\n",
       "      <th>9</th>\n",
       "      <th>...</th>\n",
       "      <th>18</th>\n",
       "      <th>19</th>\n",
       "      <th>20</th>\n",
       "      <th>21</th>\n",
       "      <th>22</th>\n",
       "      <th>23</th>\n",
       "      <th>24</th>\n",
       "      <th>25</th>\n",
       "      <th>26</th>\n",
       "      <th>27</th>\n",
       "    </tr>\n",
       "  </thead>\n",
       "  <tbody>\n",
       "    <tr>\n",
       "      <th>count</th>\n",
       "      <td>5.170000e+02</td>\n",
       "      <td>5.170000e+02</td>\n",
       "      <td>5.170000e+02</td>\n",
       "      <td>5.170000e+02</td>\n",
       "      <td>5.170000e+02</td>\n",
       "      <td>5.170000e+02</td>\n",
       "      <td>5.170000e+02</td>\n",
       "      <td>5.170000e+02</td>\n",
       "      <td>5.170000e+02</td>\n",
       "      <td>5.170000e+02</td>\n",
       "      <td>...</td>\n",
       "      <td>5.170000e+02</td>\n",
       "      <td>5.170000e+02</td>\n",
       "      <td>5.170000e+02</td>\n",
       "      <td>5.170000e+02</td>\n",
       "      <td>5.170000e+02</td>\n",
       "      <td>5.170000e+02</td>\n",
       "      <td>5.170000e+02</td>\n",
       "      <td>5.170000e+02</td>\n",
       "      <td>5.170000e+02</td>\n",
       "      <td>5.170000e+02</td>\n",
       "    </tr>\n",
       "    <tr>\n",
       "      <th>mean</th>\n",
       "      <td>-1.754024e-15</td>\n",
       "      <td>3.070830e-16</td>\n",
       "      <td>7.387171e-17</td>\n",
       "      <td>-3.865380e-17</td>\n",
       "      <td>2.005703e-16</td>\n",
       "      <td>3.362881e-16</td>\n",
       "      <td>-2.676776e-16</td>\n",
       "      <td>-2.841054e-16</td>\n",
       "      <td>-1.274502e-16</td>\n",
       "      <td>4.874674e-17</td>\n",
       "      <td>...</td>\n",
       "      <td>7.179943e-16</td>\n",
       "      <td>-1.933764e-16</td>\n",
       "      <td>-2.260174e-17</td>\n",
       "      <td>1.352883e-17</td>\n",
       "      <td>1.169277e-16</td>\n",
       "      <td>2.265542e-16</td>\n",
       "      <td>-2.596515e-16</td>\n",
       "      <td>1.443075e-16</td>\n",
       "      <td>6.253326e-16</td>\n",
       "      <td>4.024290e-16</td>\n",
       "    </tr>\n",
       "    <tr>\n",
       "      <th>std</th>\n",
       "      <td>1.000969e+00</td>\n",
       "      <td>1.000969e+00</td>\n",
       "      <td>1.000969e+00</td>\n",
       "      <td>1.000969e+00</td>\n",
       "      <td>1.000969e+00</td>\n",
       "      <td>1.000969e+00</td>\n",
       "      <td>1.000969e+00</td>\n",
       "      <td>1.000969e+00</td>\n",
       "      <td>1.000969e+00</td>\n",
       "      <td>1.000969e+00</td>\n",
       "      <td>...</td>\n",
       "      <td>1.000969e+00</td>\n",
       "      <td>1.000969e+00</td>\n",
       "      <td>1.000969e+00</td>\n",
       "      <td>1.000969e+00</td>\n",
       "      <td>1.000969e+00</td>\n",
       "      <td>1.000969e+00</td>\n",
       "      <td>1.000969e+00</td>\n",
       "      <td>1.000969e+00</td>\n",
       "      <td>1.000969e+00</td>\n",
       "      <td>1.000969e+00</td>\n",
       "    </tr>\n",
       "    <tr>\n",
       "      <th>min</th>\n",
       "      <td>-1.304582e+01</td>\n",
       "      <td>-1.715608e+00</td>\n",
       "      <td>-2.179108e+00</td>\n",
       "      <td>-1.980578e+00</td>\n",
       "      <td>-2.876943e+00</td>\n",
       "      <td>-1.796637e+00</td>\n",
       "      <td>-2.021098e+00</td>\n",
       "      <td>-7.326831e-02</td>\n",
       "      <td>-2.020198e-01</td>\n",
       "      <td>-4.435755e-01</td>\n",
       "      <td>...</td>\n",
       "      <td>-1.331035e-01</td>\n",
       "      <td>-2.006027e-01</td>\n",
       "      <td>-6.231770e-02</td>\n",
       "      <td>-2.568645e-01</td>\n",
       "      <td>-1.843909e-01</td>\n",
       "      <td>-3.415123e-01</td>\n",
       "      <td>-6.231770e-02</td>\n",
       "      <td>-4.402255e-02</td>\n",
       "      <td>-1.728597e-01</td>\n",
       "      <td>-7.060812e-01</td>\n",
       "    </tr>\n",
       "    <tr>\n",
       "      <th>25%</th>\n",
       "      <td>-8.063453e-02</td>\n",
       "      <td>-6.606652e-01</td>\n",
       "      <td>-4.448281e-01</td>\n",
       "      <td>-5.535954e-01</td>\n",
       "      <td>-5.842379e-01</td>\n",
       "      <td>-6.924563e-01</td>\n",
       "      <td>-7.361236e-01</td>\n",
       "      <td>-7.326831e-02</td>\n",
       "      <td>-2.020198e-01</td>\n",
       "      <td>-4.435755e-01</td>\n",
       "      <td>...</td>\n",
       "      <td>-1.331035e-01</td>\n",
       "      <td>-2.006027e-01</td>\n",
       "      <td>-6.231770e-02</td>\n",
       "      <td>-2.568645e-01</td>\n",
       "      <td>-1.843909e-01</td>\n",
       "      <td>-3.415123e-01</td>\n",
       "      <td>-6.231770e-02</td>\n",
       "      <td>-4.402255e-02</td>\n",
       "      <td>-1.728597e-01</td>\n",
       "      <td>-7.060812e-01</td>\n",
       "    </tr>\n",
       "    <tr>\n",
       "      <th>50%</th>\n",
       "      <td>1.732292e-01</td>\n",
       "      <td>-4.020255e-02</td>\n",
       "      <td>4.691190e-01</td>\n",
       "      <td>-1.364774e-01</td>\n",
       "      <td>7.082076e-02</td>\n",
       "      <td>-1.403660e-01</td>\n",
       "      <td>-9.833712e-03</td>\n",
       "      <td>-7.326831e-02</td>\n",
       "      <td>-1.938429e-01</td>\n",
       "      <td>-4.435755e-01</td>\n",
       "      <td>...</td>\n",
       "      <td>-1.331035e-01</td>\n",
       "      <td>-2.006027e-01</td>\n",
       "      <td>-6.231770e-02</td>\n",
       "      <td>-2.568645e-01</td>\n",
       "      <td>-1.843909e-01</td>\n",
       "      <td>-3.415123e-01</td>\n",
       "      <td>-6.231770e-02</td>\n",
       "      <td>-4.402255e-02</td>\n",
       "      <td>-1.728597e-01</td>\n",
       "      <td>-7.060812e-01</td>\n",
       "    </tr>\n",
       "    <tr>\n",
       "      <th>75%</th>\n",
       "      <td>4.089598e-01</td>\n",
       "      <td>4.927389e-01</td>\n",
       "      <td>6.696628e-01</td>\n",
       "      <td>3.904086e-01</td>\n",
       "      <td>6.741643e-01</td>\n",
       "      <td>5.344111e-01</td>\n",
       "      <td>4.929823e-01</td>\n",
       "      <td>-7.326831e-02</td>\n",
       "      <td>-9.870852e-02</td>\n",
       "      <td>-4.435755e-01</td>\n",
       "      <td>...</td>\n",
       "      <td>-1.331035e-01</td>\n",
       "      <td>-2.006027e-01</td>\n",
       "      <td>-6.231770e-02</td>\n",
       "      <td>-2.568645e-01</td>\n",
       "      <td>-1.843909e-01</td>\n",
       "      <td>-3.415123e-01</td>\n",
       "      <td>-6.231770e-02</td>\n",
       "      <td>-4.402255e-02</td>\n",
       "      <td>-1.728597e-01</td>\n",
       "      <td>1.416268e+00</td>\n",
       "    </tr>\n",
       "    <tr>\n",
       "      <th>max</th>\n",
       "      <td>1.007353e+00</td>\n",
       "      <td>2.819865e+00</td>\n",
       "      <td>1.261610e+00</td>\n",
       "      <td>1.033538e+01</td>\n",
       "      <td>2.484195e+00</td>\n",
       "      <td>3.417549e+00</td>\n",
       "      <td>3.007063e+00</td>\n",
       "      <td>2.157228e+01</td>\n",
       "      <td>1.695111e+01</td>\n",
       "      <td>2.254407e+00</td>\n",
       "      <td>...</td>\n",
       "      <td>7.512952e+00</td>\n",
       "      <td>4.984977e+00</td>\n",
       "      <td>1.604681e+01</td>\n",
       "      <td>3.893103e+00</td>\n",
       "      <td>5.423261e+00</td>\n",
       "      <td>2.928152e+00</td>\n",
       "      <td>1.604681e+01</td>\n",
       "      <td>2.271563e+01</td>\n",
       "      <td>5.785038e+00</td>\n",
       "      <td>1.416268e+00</td>\n",
       "    </tr>\n",
       "  </tbody>\n",
       "</table>\n",
       "<p>8 rows × 28 columns</p>\n",
       "</div>"
      ],
      "text/plain": [
       "                 0             1             2             3             4   \\\n",
       "count  5.170000e+02  5.170000e+02  5.170000e+02  5.170000e+02  5.170000e+02   \n",
       "mean  -1.754024e-15  3.070830e-16  7.387171e-17 -3.865380e-17  2.005703e-16   \n",
       "std    1.000969e+00  1.000969e+00  1.000969e+00  1.000969e+00  1.000969e+00   \n",
       "min   -1.304582e+01 -1.715608e+00 -2.179108e+00 -1.980578e+00 -2.876943e+00   \n",
       "25%   -8.063453e-02 -6.606652e-01 -4.448281e-01 -5.535954e-01 -5.842379e-01   \n",
       "50%    1.732292e-01 -4.020255e-02  4.691190e-01 -1.364774e-01  7.082076e-02   \n",
       "75%    4.089598e-01  4.927389e-01  6.696628e-01  3.904086e-01  6.741643e-01   \n",
       "max    1.007353e+00  2.819865e+00  1.261610e+00  1.033538e+01  2.484195e+00   \n",
       "\n",
       "                 5             6             7             8             9   \\\n",
       "count  5.170000e+02  5.170000e+02  5.170000e+02  5.170000e+02  5.170000e+02   \n",
       "mean   3.362881e-16 -2.676776e-16 -2.841054e-16 -1.274502e-16  4.874674e-17   \n",
       "std    1.000969e+00  1.000969e+00  1.000969e+00  1.000969e+00  1.000969e+00   \n",
       "min   -1.796637e+00 -2.021098e+00 -7.326831e-02 -2.020198e-01 -4.435755e-01   \n",
       "25%   -6.924563e-01 -7.361236e-01 -7.326831e-02 -2.020198e-01 -4.435755e-01   \n",
       "50%   -1.403660e-01 -9.833712e-03 -7.326831e-02 -1.938429e-01 -4.435755e-01   \n",
       "75%    5.344111e-01  4.929823e-01 -7.326831e-02 -9.870852e-02 -4.435755e-01   \n",
       "max    3.417549e+00  3.007063e+00  2.157228e+01  1.695111e+01  2.254407e+00   \n",
       "\n",
       "       ...            18            19            20            21  \\\n",
       "count  ...  5.170000e+02  5.170000e+02  5.170000e+02  5.170000e+02   \n",
       "mean   ...  7.179943e-16 -1.933764e-16 -2.260174e-17  1.352883e-17   \n",
       "std    ...  1.000969e+00  1.000969e+00  1.000969e+00  1.000969e+00   \n",
       "min    ... -1.331035e-01 -2.006027e-01 -6.231770e-02 -2.568645e-01   \n",
       "25%    ... -1.331035e-01 -2.006027e-01 -6.231770e-02 -2.568645e-01   \n",
       "50%    ... -1.331035e-01 -2.006027e-01 -6.231770e-02 -2.568645e-01   \n",
       "75%    ... -1.331035e-01 -2.006027e-01 -6.231770e-02 -2.568645e-01   \n",
       "max    ...  7.512952e+00  4.984977e+00  1.604681e+01  3.893103e+00   \n",
       "\n",
       "                 22            23            24            25            26  \\\n",
       "count  5.170000e+02  5.170000e+02  5.170000e+02  5.170000e+02  5.170000e+02   \n",
       "mean   1.169277e-16  2.265542e-16 -2.596515e-16  1.443075e-16  6.253326e-16   \n",
       "std    1.000969e+00  1.000969e+00  1.000969e+00  1.000969e+00  1.000969e+00   \n",
       "min   -1.843909e-01 -3.415123e-01 -6.231770e-02 -4.402255e-02 -1.728597e-01   \n",
       "25%   -1.843909e-01 -3.415123e-01 -6.231770e-02 -4.402255e-02 -1.728597e-01   \n",
       "50%   -1.843909e-01 -3.415123e-01 -6.231770e-02 -4.402255e-02 -1.728597e-01   \n",
       "75%   -1.843909e-01 -3.415123e-01 -6.231770e-02 -4.402255e-02 -1.728597e-01   \n",
       "max    5.423261e+00  2.928152e+00  1.604681e+01  2.271563e+01  5.785038e+00   \n",
       "\n",
       "                 27  \n",
       "count  5.170000e+02  \n",
       "mean   4.024290e-16  \n",
       "std    1.000969e+00  \n",
       "min   -7.060812e-01  \n",
       "25%   -7.060812e-01  \n",
       "50%   -7.060812e-01  \n",
       "75%    1.416268e+00  \n",
       "max    1.416268e+00  \n",
       "\n",
       "[8 rows x 28 columns]"
      ]
     },
     "execution_count": 25,
     "metadata": {},
     "output_type": "execute_result"
    }
   ],
   "source": [
    "pd.DataFrame(X_standardized).describe()"
   ]
  },
  {
   "cell_type": "code",
   "execution_count": 26,
   "id": "841700f7",
   "metadata": {},
   "outputs": [],
   "source": [
    "from sklearn.preprocessing import StandardScaler\n",
    "a = StandardScaler()\n",
    "a.fit(X)\n",
    "X_standardized = a.transform(X1)"
   ]
  },
  {
   "cell_type": "code",
   "execution_count": 27,
   "id": "03b42029",
   "metadata": {},
   "outputs": [],
   "source": [
    "# Importing the necessary packages\n",
    "from sklearn.model_selection import GridSearchCV, KFold\n",
    "from tensorflow.keras.wrappers.scikit_learn import KerasClassifier\n",
    "from tensorflow.keras.optimizers import Adam"
   ]
  },
  {
   "cell_type": "markdown",
   "id": "c1213c77",
   "metadata": {},
   "source": [
    "Tuning set 1 : Batch Size and Epochs"
   ]
  },
  {
   "cell_type": "code",
   "execution_count": 28,
   "id": "0dabe79c",
   "metadata": {},
   "outputs": [],
   "source": [
    "def create_model():\n",
    "    ann = tf.keras.models.Sequential()\n",
    "    ann.add(tf.keras.layers.Dense(units=14,kernel_initializer='uniform', activation='relu'))\n",
    "    ann.add(tf.keras.layers.Dense(units=12, kernel_initializer='uniform',activation='relu'))\n",
    "    ann.add(tf.keras.layers.Dense(units=1,kernel_initializer='uniform',activation='sigmoid'))\n",
    "    adam=Adam(lr=0.01) #learning rate = 0.01\n",
    "    ann.compile(loss='binary_crossentropy', optimizer=adam, metrics=['accuracy'])\n",
    "    return ann"
   ]
  },
  {
   "cell_type": "code",
   "execution_count": 29,
   "id": "1188907c",
   "metadata": {},
   "outputs": [],
   "source": [
    "# Create the model\n",
    "ann = KerasClassifier(build_fn = create_model,verbose = 0)\n"
   ]
  },
  {
   "cell_type": "code",
   "execution_count": 30,
   "id": "4a258ca6",
   "metadata": {},
   "outputs": [],
   "source": [
    "# Define the grid search parameters\n",
    "batch_size = [10,20,40]\n",
    "epochs = [10,25,50,100]\n"
   ]
  },
  {
   "cell_type": "code",
   "execution_count": 31,
   "id": "298d7540",
   "metadata": {},
   "outputs": [],
   "source": [
    "# Make a dictionary of the grid search parameters\n",
    "param_grid = dict(batch_size = batch_size,epochs = epochs)\n"
   ]
  },
  {
   "cell_type": "code",
   "execution_count": 32,
   "id": "994ce6c0",
   "metadata": {},
   "outputs": [
    {
     "name": "stdout",
     "output_type": "stream",
     "text": [
      "Fitting 5 folds for each of 12 candidates, totalling 60 fits\n",
      "[CV 1/5; 1/12] START batch_size=10, epochs=10...................................\n"
     ]
    },
    {
     "name": "stderr",
     "output_type": "stream",
     "text": [
      "C:\\Users\\sanjana\\anaconda3\\lib\\site-packages\\tensorflow\\python\\keras\\optimizer_v2\\optimizer_v2.py:374: UserWarning: The `lr` argument is deprecated, use `learning_rate` instead.\n",
      "  warnings.warn(\n"
     ]
    },
    {
     "name": "stdout",
     "output_type": "stream",
     "text": [
      "[CV 1/5; 1/12] END .................batch_size=10, epochs=10; total time=   1.7s\n",
      "[CV 2/5; 1/12] START batch_size=10, epochs=10...................................\n"
     ]
    },
    {
     "name": "stderr",
     "output_type": "stream",
     "text": [
      "C:\\Users\\sanjana\\anaconda3\\lib\\site-packages\\tensorflow\\python\\keras\\optimizer_v2\\optimizer_v2.py:374: UserWarning: The `lr` argument is deprecated, use `learning_rate` instead.\n",
      "  warnings.warn(\n"
     ]
    },
    {
     "name": "stdout",
     "output_type": "stream",
     "text": [
      "[CV 2/5; 1/12] END .................batch_size=10, epochs=10; total time=   1.5s\n",
      "[CV 3/5; 1/12] START batch_size=10, epochs=10...................................\n"
     ]
    },
    {
     "name": "stderr",
     "output_type": "stream",
     "text": [
      "C:\\Users\\sanjana\\anaconda3\\lib\\site-packages\\tensorflow\\python\\keras\\optimizer_v2\\optimizer_v2.py:374: UserWarning: The `lr` argument is deprecated, use `learning_rate` instead.\n",
      "  warnings.warn(\n"
     ]
    },
    {
     "name": "stdout",
     "output_type": "stream",
     "text": [
      "[CV 3/5; 1/12] END .................batch_size=10, epochs=10; total time=   1.9s\n",
      "[CV 4/5; 1/12] START batch_size=10, epochs=10...................................\n"
     ]
    },
    {
     "name": "stderr",
     "output_type": "stream",
     "text": [
      "C:\\Users\\sanjana\\anaconda3\\lib\\site-packages\\tensorflow\\python\\keras\\optimizer_v2\\optimizer_v2.py:374: UserWarning: The `lr` argument is deprecated, use `learning_rate` instead.\n",
      "  warnings.warn(\n"
     ]
    },
    {
     "name": "stdout",
     "output_type": "stream",
     "text": [
      "[CV 4/5; 1/12] END .................batch_size=10, epochs=10; total time=   2.1s\n",
      "[CV 5/5; 1/12] START batch_size=10, epochs=10...................................\n"
     ]
    },
    {
     "name": "stderr",
     "output_type": "stream",
     "text": [
      "C:\\Users\\sanjana\\anaconda3\\lib\\site-packages\\tensorflow\\python\\keras\\optimizer_v2\\optimizer_v2.py:374: UserWarning: The `lr` argument is deprecated, use `learning_rate` instead.\n",
      "  warnings.warn(\n"
     ]
    },
    {
     "name": "stdout",
     "output_type": "stream",
     "text": [
      "[CV 5/5; 1/12] END .................batch_size=10, epochs=10; total time=   1.7s\n",
      "[CV 1/5; 2/12] START batch_size=10, epochs=25...................................\n"
     ]
    },
    {
     "name": "stderr",
     "output_type": "stream",
     "text": [
      "C:\\Users\\sanjana\\anaconda3\\lib\\site-packages\\tensorflow\\python\\keras\\optimizer_v2\\optimizer_v2.py:374: UserWarning: The `lr` argument is deprecated, use `learning_rate` instead.\n",
      "  warnings.warn(\n"
     ]
    },
    {
     "name": "stdout",
     "output_type": "stream",
     "text": [
      "[CV 1/5; 2/12] END .................batch_size=10, epochs=25; total time=   2.4s\n",
      "[CV 2/5; 2/12] START batch_size=10, epochs=25...................................\n"
     ]
    },
    {
     "name": "stderr",
     "output_type": "stream",
     "text": [
      "C:\\Users\\sanjana\\anaconda3\\lib\\site-packages\\tensorflow\\python\\keras\\optimizer_v2\\optimizer_v2.py:374: UserWarning: The `lr` argument is deprecated, use `learning_rate` instead.\n",
      "  warnings.warn(\n"
     ]
    },
    {
     "name": "stdout",
     "output_type": "stream",
     "text": [
      "[CV 2/5; 2/12] END .................batch_size=10, epochs=25; total time=   2.8s\n",
      "[CV 3/5; 2/12] START batch_size=10, epochs=25...................................\n"
     ]
    },
    {
     "name": "stderr",
     "output_type": "stream",
     "text": [
      "C:\\Users\\sanjana\\anaconda3\\lib\\site-packages\\tensorflow\\python\\keras\\optimizer_v2\\optimizer_v2.py:374: UserWarning: The `lr` argument is deprecated, use `learning_rate` instead.\n",
      "  warnings.warn(\n"
     ]
    },
    {
     "name": "stdout",
     "output_type": "stream",
     "text": [
      "[CV 3/5; 2/12] END .................batch_size=10, epochs=25; total time=   2.6s\n",
      "[CV 4/5; 2/12] START batch_size=10, epochs=25...................................\n"
     ]
    },
    {
     "name": "stderr",
     "output_type": "stream",
     "text": [
      "C:\\Users\\sanjana\\anaconda3\\lib\\site-packages\\tensorflow\\python\\keras\\optimizer_v2\\optimizer_v2.py:374: UserWarning: The `lr` argument is deprecated, use `learning_rate` instead.\n",
      "  warnings.warn(\n"
     ]
    },
    {
     "name": "stdout",
     "output_type": "stream",
     "text": [
      "[CV 4/5; 2/12] END .................batch_size=10, epochs=25; total time=   2.2s\n",
      "[CV 5/5; 2/12] START batch_size=10, epochs=25...................................\n"
     ]
    },
    {
     "name": "stderr",
     "output_type": "stream",
     "text": [
      "C:\\Users\\sanjana\\anaconda3\\lib\\site-packages\\tensorflow\\python\\keras\\optimizer_v2\\optimizer_v2.py:374: UserWarning: The `lr` argument is deprecated, use `learning_rate` instead.\n",
      "  warnings.warn(\n"
     ]
    },
    {
     "name": "stdout",
     "output_type": "stream",
     "text": [
      "[CV 5/5; 2/12] END .................batch_size=10, epochs=25; total time=   2.5s\n",
      "[CV 1/5; 3/12] START batch_size=10, epochs=50...................................\n"
     ]
    },
    {
     "name": "stderr",
     "output_type": "stream",
     "text": [
      "C:\\Users\\sanjana\\anaconda3\\lib\\site-packages\\tensorflow\\python\\keras\\optimizer_v2\\optimizer_v2.py:374: UserWarning: The `lr` argument is deprecated, use `learning_rate` instead.\n",
      "  warnings.warn(\n"
     ]
    },
    {
     "name": "stdout",
     "output_type": "stream",
     "text": [
      "[CV 1/5; 3/12] END .................batch_size=10, epochs=50; total time=   3.7s\n",
      "[CV 2/5; 3/12] START batch_size=10, epochs=50...................................\n"
     ]
    },
    {
     "name": "stderr",
     "output_type": "stream",
     "text": [
      "C:\\Users\\sanjana\\anaconda3\\lib\\site-packages\\tensorflow\\python\\keras\\optimizer_v2\\optimizer_v2.py:374: UserWarning: The `lr` argument is deprecated, use `learning_rate` instead.\n",
      "  warnings.warn(\n"
     ]
    },
    {
     "name": "stdout",
     "output_type": "stream",
     "text": [
      "[CV 2/5; 3/12] END .................batch_size=10, epochs=50; total time=   3.4s\n",
      "[CV 3/5; 3/12] START batch_size=10, epochs=50...................................\n"
     ]
    },
    {
     "name": "stderr",
     "output_type": "stream",
     "text": [
      "C:\\Users\\sanjana\\anaconda3\\lib\\site-packages\\tensorflow\\python\\keras\\optimizer_v2\\optimizer_v2.py:374: UserWarning: The `lr` argument is deprecated, use `learning_rate` instead.\n",
      "  warnings.warn(\n"
     ]
    },
    {
     "name": "stdout",
     "output_type": "stream",
     "text": [
      "[CV 3/5; 3/12] END .................batch_size=10, epochs=50; total time=   3.6s\n",
      "[CV 4/5; 3/12] START batch_size=10, epochs=50...................................\n"
     ]
    },
    {
     "name": "stderr",
     "output_type": "stream",
     "text": [
      "C:\\Users\\sanjana\\anaconda3\\lib\\site-packages\\tensorflow\\python\\keras\\optimizer_v2\\optimizer_v2.py:374: UserWarning: The `lr` argument is deprecated, use `learning_rate` instead.\n",
      "  warnings.warn(\n"
     ]
    },
    {
     "name": "stdout",
     "output_type": "stream",
     "text": [
      "[CV 4/5; 3/12] END .................batch_size=10, epochs=50; total time=   3.7s\n",
      "[CV 5/5; 3/12] START batch_size=10, epochs=50...................................\n"
     ]
    },
    {
     "name": "stderr",
     "output_type": "stream",
     "text": [
      "C:\\Users\\sanjana\\anaconda3\\lib\\site-packages\\tensorflow\\python\\keras\\optimizer_v2\\optimizer_v2.py:374: UserWarning: The `lr` argument is deprecated, use `learning_rate` instead.\n",
      "  warnings.warn(\n"
     ]
    },
    {
     "name": "stdout",
     "output_type": "stream",
     "text": [
      "[CV 5/5; 3/12] END .................batch_size=10, epochs=50; total time=   3.7s\n",
      "[CV 1/5; 4/12] START batch_size=10, epochs=100..................................\n"
     ]
    },
    {
     "name": "stderr",
     "output_type": "stream",
     "text": [
      "C:\\Users\\sanjana\\anaconda3\\lib\\site-packages\\tensorflow\\python\\keras\\optimizer_v2\\optimizer_v2.py:374: UserWarning: The `lr` argument is deprecated, use `learning_rate` instead.\n",
      "  warnings.warn(\n"
     ]
    },
    {
     "name": "stdout",
     "output_type": "stream",
     "text": [
      "[CV 1/5; 4/12] END ................batch_size=10, epochs=100; total time=   6.4s\n",
      "[CV 2/5; 4/12] START batch_size=10, epochs=100..................................\n"
     ]
    },
    {
     "name": "stderr",
     "output_type": "stream",
     "text": [
      "C:\\Users\\sanjana\\anaconda3\\lib\\site-packages\\tensorflow\\python\\keras\\optimizer_v2\\optimizer_v2.py:374: UserWarning: The `lr` argument is deprecated, use `learning_rate` instead.\n",
      "  warnings.warn(\n"
     ]
    },
    {
     "name": "stdout",
     "output_type": "stream",
     "text": [
      "[CV 2/5; 4/12] END ................batch_size=10, epochs=100; total time=   6.6s\n",
      "[CV 3/5; 4/12] START batch_size=10, epochs=100..................................\n"
     ]
    },
    {
     "name": "stderr",
     "output_type": "stream",
     "text": [
      "C:\\Users\\sanjana\\anaconda3\\lib\\site-packages\\tensorflow\\python\\keras\\optimizer_v2\\optimizer_v2.py:374: UserWarning: The `lr` argument is deprecated, use `learning_rate` instead.\n",
      "  warnings.warn(\n"
     ]
    },
    {
     "name": "stdout",
     "output_type": "stream",
     "text": [
      "[CV 3/5; 4/12] END ................batch_size=10, epochs=100; total time=   6.3s\n",
      "[CV 4/5; 4/12] START batch_size=10, epochs=100..................................\n"
     ]
    },
    {
     "name": "stderr",
     "output_type": "stream",
     "text": [
      "C:\\Users\\sanjana\\anaconda3\\lib\\site-packages\\tensorflow\\python\\keras\\optimizer_v2\\optimizer_v2.py:374: UserWarning: The `lr` argument is deprecated, use `learning_rate` instead.\n",
      "  warnings.warn(\n"
     ]
    },
    {
     "name": "stdout",
     "output_type": "stream",
     "text": [
      "[CV 4/5; 4/12] END ................batch_size=10, epochs=100; total time=   6.4s\n",
      "[CV 5/5; 4/12] START batch_size=10, epochs=100..................................\n"
     ]
    },
    {
     "name": "stderr",
     "output_type": "stream",
     "text": [
      "C:\\Users\\sanjana\\anaconda3\\lib\\site-packages\\tensorflow\\python\\keras\\optimizer_v2\\optimizer_v2.py:374: UserWarning: The `lr` argument is deprecated, use `learning_rate` instead.\n",
      "  warnings.warn(\n"
     ]
    },
    {
     "name": "stdout",
     "output_type": "stream",
     "text": [
      "[CV 5/5; 4/12] END ................batch_size=10, epochs=100; total time=   6.2s\n",
      "[CV 1/5; 5/12] START batch_size=20, epochs=10...................................\n"
     ]
    },
    {
     "name": "stderr",
     "output_type": "stream",
     "text": [
      "C:\\Users\\sanjana\\anaconda3\\lib\\site-packages\\tensorflow\\python\\keras\\optimizer_v2\\optimizer_v2.py:374: UserWarning: The `lr` argument is deprecated, use `learning_rate` instead.\n",
      "  warnings.warn(\n"
     ]
    },
    {
     "name": "stdout",
     "output_type": "stream",
     "text": [
      "[CV 1/5; 5/12] END .................batch_size=20, epochs=10; total time=   1.1s\n",
      "[CV 2/5; 5/12] START batch_size=20, epochs=10...................................\n"
     ]
    },
    {
     "name": "stderr",
     "output_type": "stream",
     "text": [
      "C:\\Users\\sanjana\\anaconda3\\lib\\site-packages\\tensorflow\\python\\keras\\optimizer_v2\\optimizer_v2.py:374: UserWarning: The `lr` argument is deprecated, use `learning_rate` instead.\n",
      "  warnings.warn(\n"
     ]
    },
    {
     "name": "stdout",
     "output_type": "stream",
     "text": [
      "[CV 2/5; 5/12] END .................batch_size=20, epochs=10; total time=   1.1s\n",
      "[CV 3/5; 5/12] START batch_size=20, epochs=10...................................\n"
     ]
    },
    {
     "name": "stderr",
     "output_type": "stream",
     "text": [
      "C:\\Users\\sanjana\\anaconda3\\lib\\site-packages\\tensorflow\\python\\keras\\optimizer_v2\\optimizer_v2.py:374: UserWarning: The `lr` argument is deprecated, use `learning_rate` instead.\n",
      "  warnings.warn(\n"
     ]
    },
    {
     "name": "stdout",
     "output_type": "stream",
     "text": [
      "[CV 3/5; 5/12] END .................batch_size=20, epochs=10; total time=   1.1s\n",
      "[CV 4/5; 5/12] START batch_size=20, epochs=10...................................\n"
     ]
    },
    {
     "name": "stderr",
     "output_type": "stream",
     "text": [
      "C:\\Users\\sanjana\\anaconda3\\lib\\site-packages\\tensorflow\\python\\keras\\optimizer_v2\\optimizer_v2.py:374: UserWarning: The `lr` argument is deprecated, use `learning_rate` instead.\n",
      "  warnings.warn(\n"
     ]
    },
    {
     "name": "stdout",
     "output_type": "stream",
     "text": [
      "[CV 4/5; 5/12] END .................batch_size=20, epochs=10; total time=   1.1s\n",
      "[CV 5/5; 5/12] START batch_size=20, epochs=10...................................\n"
     ]
    },
    {
     "name": "stderr",
     "output_type": "stream",
     "text": [
      "C:\\Users\\sanjana\\anaconda3\\lib\\site-packages\\tensorflow\\python\\keras\\optimizer_v2\\optimizer_v2.py:374: UserWarning: The `lr` argument is deprecated, use `learning_rate` instead.\n",
      "  warnings.warn(\n"
     ]
    },
    {
     "name": "stdout",
     "output_type": "stream",
     "text": [
      "[CV 5/5; 5/12] END .................batch_size=20, epochs=10; total time=   1.1s\n",
      "[CV 1/5; 6/12] START batch_size=20, epochs=25...................................\n"
     ]
    },
    {
     "name": "stderr",
     "output_type": "stream",
     "text": [
      "C:\\Users\\sanjana\\anaconda3\\lib\\site-packages\\tensorflow\\python\\keras\\optimizer_v2\\optimizer_v2.py:374: UserWarning: The `lr` argument is deprecated, use `learning_rate` instead.\n",
      "  warnings.warn(\n"
     ]
    },
    {
     "name": "stdout",
     "output_type": "stream",
     "text": [
      "[CV 1/5; 6/12] END .................batch_size=20, epochs=25; total time=   1.8s\n",
      "[CV 2/5; 6/12] START batch_size=20, epochs=25...................................\n"
     ]
    },
    {
     "name": "stderr",
     "output_type": "stream",
     "text": [
      "C:\\Users\\sanjana\\anaconda3\\lib\\site-packages\\tensorflow\\python\\keras\\optimizer_v2\\optimizer_v2.py:374: UserWarning: The `lr` argument is deprecated, use `learning_rate` instead.\n",
      "  warnings.warn(\n"
     ]
    },
    {
     "name": "stdout",
     "output_type": "stream",
     "text": [
      "[CV 2/5; 6/12] END .................batch_size=20, epochs=25; total time=   1.6s\n",
      "[CV 3/5; 6/12] START batch_size=20, epochs=25...................................\n"
     ]
    },
    {
     "name": "stderr",
     "output_type": "stream",
     "text": [
      "C:\\Users\\sanjana\\anaconda3\\lib\\site-packages\\tensorflow\\python\\keras\\optimizer_v2\\optimizer_v2.py:374: UserWarning: The `lr` argument is deprecated, use `learning_rate` instead.\n",
      "  warnings.warn(\n"
     ]
    },
    {
     "name": "stdout",
     "output_type": "stream",
     "text": [
      "[CV 3/5; 6/12] END .................batch_size=20, epochs=25; total time=   2.0s\n",
      "[CV 4/5; 6/12] START batch_size=20, epochs=25...................................\n"
     ]
    },
    {
     "name": "stderr",
     "output_type": "stream",
     "text": [
      "C:\\Users\\sanjana\\anaconda3\\lib\\site-packages\\tensorflow\\python\\keras\\optimizer_v2\\optimizer_v2.py:374: UserWarning: The `lr` argument is deprecated, use `learning_rate` instead.\n",
      "  warnings.warn(\n"
     ]
    },
    {
     "name": "stdout",
     "output_type": "stream",
     "text": [
      "[CV 4/5; 6/12] END .................batch_size=20, epochs=25; total time=   1.6s\n",
      "[CV 5/5; 6/12] START batch_size=20, epochs=25...................................\n"
     ]
    },
    {
     "name": "stderr",
     "output_type": "stream",
     "text": [
      "C:\\Users\\sanjana\\anaconda3\\lib\\site-packages\\tensorflow\\python\\keras\\optimizer_v2\\optimizer_v2.py:374: UserWarning: The `lr` argument is deprecated, use `learning_rate` instead.\n",
      "  warnings.warn(\n"
     ]
    },
    {
     "name": "stdout",
     "output_type": "stream",
     "text": [
      "[CV 5/5; 6/12] END .................batch_size=20, epochs=25; total time=   1.6s\n",
      "[CV 1/5; 7/12] START batch_size=20, epochs=50...................................\n"
     ]
    },
    {
     "name": "stderr",
     "output_type": "stream",
     "text": [
      "C:\\Users\\sanjana\\anaconda3\\lib\\site-packages\\tensorflow\\python\\keras\\optimizer_v2\\optimizer_v2.py:374: UserWarning: The `lr` argument is deprecated, use `learning_rate` instead.\n",
      "  warnings.warn(\n"
     ]
    },
    {
     "name": "stdout",
     "output_type": "stream",
     "text": [
      "[CV 1/5; 7/12] END .................batch_size=20, epochs=50; total time=   2.4s\n",
      "[CV 2/5; 7/12] START batch_size=20, epochs=50...................................\n"
     ]
    },
    {
     "name": "stderr",
     "output_type": "stream",
     "text": [
      "C:\\Users\\sanjana\\anaconda3\\lib\\site-packages\\tensorflow\\python\\keras\\optimizer_v2\\optimizer_v2.py:374: UserWarning: The `lr` argument is deprecated, use `learning_rate` instead.\n",
      "  warnings.warn(\n"
     ]
    },
    {
     "name": "stdout",
     "output_type": "stream",
     "text": [
      "[CV 2/5; 7/12] END .................batch_size=20, epochs=50; total time=   2.3s\n",
      "[CV 3/5; 7/12] START batch_size=20, epochs=50...................................\n"
     ]
    },
    {
     "name": "stderr",
     "output_type": "stream",
     "text": [
      "C:\\Users\\sanjana\\anaconda3\\lib\\site-packages\\tensorflow\\python\\keras\\optimizer_v2\\optimizer_v2.py:374: UserWarning: The `lr` argument is deprecated, use `learning_rate` instead.\n",
      "  warnings.warn(\n"
     ]
    },
    {
     "name": "stdout",
     "output_type": "stream",
     "text": [
      "[CV 3/5; 7/12] END .................batch_size=20, epochs=50; total time=   2.4s\n",
      "[CV 4/5; 7/12] START batch_size=20, epochs=50...................................\n"
     ]
    },
    {
     "name": "stderr",
     "output_type": "stream",
     "text": [
      "C:\\Users\\sanjana\\anaconda3\\lib\\site-packages\\tensorflow\\python\\keras\\optimizer_v2\\optimizer_v2.py:374: UserWarning: The `lr` argument is deprecated, use `learning_rate` instead.\n",
      "  warnings.warn(\n"
     ]
    },
    {
     "name": "stdout",
     "output_type": "stream",
     "text": [
      "[CV 4/5; 7/12] END .................batch_size=20, epochs=50; total time=   2.5s\n",
      "[CV 5/5; 7/12] START batch_size=20, epochs=50...................................\n"
     ]
    },
    {
     "name": "stderr",
     "output_type": "stream",
     "text": [
      "C:\\Users\\sanjana\\anaconda3\\lib\\site-packages\\tensorflow\\python\\keras\\optimizer_v2\\optimizer_v2.py:374: UserWarning: The `lr` argument is deprecated, use `learning_rate` instead.\n",
      "  warnings.warn(\n"
     ]
    },
    {
     "name": "stdout",
     "output_type": "stream",
     "text": [
      "[CV 5/5; 7/12] END .................batch_size=20, epochs=50; total time=   2.4s\n",
      "[CV 1/5; 8/12] START batch_size=20, epochs=100..................................\n"
     ]
    },
    {
     "name": "stderr",
     "output_type": "stream",
     "text": [
      "C:\\Users\\sanjana\\anaconda3\\lib\\site-packages\\tensorflow\\python\\keras\\optimizer_v2\\optimizer_v2.py:374: UserWarning: The `lr` argument is deprecated, use `learning_rate` instead.\n",
      "  warnings.warn(\n"
     ]
    },
    {
     "name": "stdout",
     "output_type": "stream",
     "text": [
      "[CV 1/5; 8/12] END ................batch_size=20, epochs=100; total time=   4.0s\n",
      "[CV 2/5; 8/12] START batch_size=20, epochs=100..................................\n"
     ]
    },
    {
     "name": "stderr",
     "output_type": "stream",
     "text": [
      "C:\\Users\\sanjana\\anaconda3\\lib\\site-packages\\tensorflow\\python\\keras\\optimizer_v2\\optimizer_v2.py:374: UserWarning: The `lr` argument is deprecated, use `learning_rate` instead.\n",
      "  warnings.warn(\n"
     ]
    },
    {
     "name": "stdout",
     "output_type": "stream",
     "text": [
      "[CV 2/5; 8/12] END ................batch_size=20, epochs=100; total time=   3.5s\n",
      "[CV 3/5; 8/12] START batch_size=20, epochs=100..................................\n"
     ]
    },
    {
     "name": "stderr",
     "output_type": "stream",
     "text": [
      "C:\\Users\\sanjana\\anaconda3\\lib\\site-packages\\tensorflow\\python\\keras\\optimizer_v2\\optimizer_v2.py:374: UserWarning: The `lr` argument is deprecated, use `learning_rate` instead.\n",
      "  warnings.warn(\n"
     ]
    },
    {
     "name": "stdout",
     "output_type": "stream",
     "text": [
      "[CV 3/5; 8/12] END ................batch_size=20, epochs=100; total time=   3.4s\n",
      "[CV 4/5; 8/12] START batch_size=20, epochs=100..................................\n"
     ]
    },
    {
     "name": "stderr",
     "output_type": "stream",
     "text": [
      "C:\\Users\\sanjana\\anaconda3\\lib\\site-packages\\tensorflow\\python\\keras\\optimizer_v2\\optimizer_v2.py:374: UserWarning: The `lr` argument is deprecated, use `learning_rate` instead.\n",
      "  warnings.warn(\n"
     ]
    },
    {
     "name": "stdout",
     "output_type": "stream",
     "text": [
      "[CV 4/5; 8/12] END ................batch_size=20, epochs=100; total time=   3.5s\n",
      "[CV 5/5; 8/12] START batch_size=20, epochs=100..................................\n"
     ]
    },
    {
     "name": "stderr",
     "output_type": "stream",
     "text": [
      "C:\\Users\\sanjana\\anaconda3\\lib\\site-packages\\tensorflow\\python\\keras\\optimizer_v2\\optimizer_v2.py:374: UserWarning: The `lr` argument is deprecated, use `learning_rate` instead.\n",
      "  warnings.warn(\n"
     ]
    },
    {
     "name": "stdout",
     "output_type": "stream",
     "text": [
      "[CV 5/5; 8/12] END ................batch_size=20, epochs=100; total time=   3.6s\n",
      "[CV 1/5; 9/12] START batch_size=40, epochs=10...................................\n"
     ]
    },
    {
     "name": "stderr",
     "output_type": "stream",
     "text": [
      "C:\\Users\\sanjana\\anaconda3\\lib\\site-packages\\tensorflow\\python\\keras\\optimizer_v2\\optimizer_v2.py:374: UserWarning: The `lr` argument is deprecated, use `learning_rate` instead.\n",
      "  warnings.warn(\n"
     ]
    },
    {
     "name": "stdout",
     "output_type": "stream",
     "text": [
      "[CV 1/5; 9/12] END .................batch_size=40, epochs=10; total time=   1.0s\n",
      "[CV 2/5; 9/12] START batch_size=40, epochs=10...................................\n"
     ]
    },
    {
     "name": "stderr",
     "output_type": "stream",
     "text": [
      "C:\\Users\\sanjana\\anaconda3\\lib\\site-packages\\tensorflow\\python\\keras\\optimizer_v2\\optimizer_v2.py:374: UserWarning: The `lr` argument is deprecated, use `learning_rate` instead.\n",
      "  warnings.warn(\n"
     ]
    },
    {
     "name": "stdout",
     "output_type": "stream",
     "text": [
      "[CV 2/5; 9/12] END .................batch_size=40, epochs=10; total time=   1.0s\n",
      "[CV 3/5; 9/12] START batch_size=40, epochs=10...................................\n"
     ]
    },
    {
     "name": "stderr",
     "output_type": "stream",
     "text": [
      "C:\\Users\\sanjana\\anaconda3\\lib\\site-packages\\tensorflow\\python\\keras\\optimizer_v2\\optimizer_v2.py:374: UserWarning: The `lr` argument is deprecated, use `learning_rate` instead.\n",
      "  warnings.warn(\n"
     ]
    },
    {
     "name": "stdout",
     "output_type": "stream",
     "text": [
      "[CV 3/5; 9/12] END .................batch_size=40, epochs=10; total time=   1.0s\n",
      "[CV 4/5; 9/12] START batch_size=40, epochs=10...................................\n"
     ]
    },
    {
     "name": "stderr",
     "output_type": "stream",
     "text": [
      "C:\\Users\\sanjana\\anaconda3\\lib\\site-packages\\tensorflow\\python\\keras\\optimizer_v2\\optimizer_v2.py:374: UserWarning: The `lr` argument is deprecated, use `learning_rate` instead.\n",
      "  warnings.warn(\n"
     ]
    },
    {
     "name": "stdout",
     "output_type": "stream",
     "text": [
      "WARNING:tensorflow:5 out of the last 16 calls to <function Model.make_test_function.<locals>.test_function at 0x0000021A7ED6A160> triggered tf.function retracing. Tracing is expensive and the excessive number of tracings could be due to (1) creating @tf.function repeatedly in a loop, (2) passing tensors with different shapes, (3) passing Python objects instead of tensors. For (1), please define your @tf.function outside of the loop. For (2), @tf.function has experimental_relax_shapes=True option that relaxes argument shapes that can avoid unnecessary retracing. For (3), please refer to https://www.tensorflow.org/guide/function#controlling_retracing and https://www.tensorflow.org/api_docs/python/tf/function for  more details.\n",
      "[CV 4/5; 9/12] END .................batch_size=40, epochs=10; total time=   1.2s\n",
      "[CV 5/5; 9/12] START batch_size=40, epochs=10...................................\n"
     ]
    },
    {
     "name": "stderr",
     "output_type": "stream",
     "text": [
      "C:\\Users\\sanjana\\anaconda3\\lib\\site-packages\\tensorflow\\python\\keras\\optimizer_v2\\optimizer_v2.py:374: UserWarning: The `lr` argument is deprecated, use `learning_rate` instead.\n",
      "  warnings.warn(\n"
     ]
    },
    {
     "name": "stdout",
     "output_type": "stream",
     "text": [
      "WARNING:tensorflow:5 out of the last 13 calls to <function Model.make_test_function.<locals>.test_function at 0x0000021A79349D30> triggered tf.function retracing. Tracing is expensive and the excessive number of tracings could be due to (1) creating @tf.function repeatedly in a loop, (2) passing tensors with different shapes, (3) passing Python objects instead of tensors. For (1), please define your @tf.function outside of the loop. For (2), @tf.function has experimental_relax_shapes=True option that relaxes argument shapes that can avoid unnecessary retracing. For (3), please refer to https://www.tensorflow.org/guide/function#controlling_retracing and https://www.tensorflow.org/api_docs/python/tf/function for  more details.\n",
      "[CV 5/5; 9/12] END .................batch_size=40, epochs=10; total time=   1.0s\n",
      "[CV 1/5; 10/12] START batch_size=40, epochs=25..................................\n"
     ]
    },
    {
     "name": "stderr",
     "output_type": "stream",
     "text": [
      "C:\\Users\\sanjana\\anaconda3\\lib\\site-packages\\tensorflow\\python\\keras\\optimizer_v2\\optimizer_v2.py:374: UserWarning: The `lr` argument is deprecated, use `learning_rate` instead.\n",
      "  warnings.warn(\n"
     ]
    },
    {
     "name": "stdout",
     "output_type": "stream",
     "text": [
      "[CV 1/5; 10/12] END ................batch_size=40, epochs=25; total time=   1.3s\n",
      "[CV 2/5; 10/12] START batch_size=40, epochs=25..................................\n"
     ]
    },
    {
     "name": "stderr",
     "output_type": "stream",
     "text": [
      "C:\\Users\\sanjana\\anaconda3\\lib\\site-packages\\tensorflow\\python\\keras\\optimizer_v2\\optimizer_v2.py:374: UserWarning: The `lr` argument is deprecated, use `learning_rate` instead.\n",
      "  warnings.warn(\n"
     ]
    },
    {
     "name": "stdout",
     "output_type": "stream",
     "text": [
      "[CV 2/5; 10/12] END ................batch_size=40, epochs=25; total time=   1.3s\n",
      "[CV 3/5; 10/12] START batch_size=40, epochs=25..................................\n"
     ]
    },
    {
     "name": "stderr",
     "output_type": "stream",
     "text": [
      "C:\\Users\\sanjana\\anaconda3\\lib\\site-packages\\tensorflow\\python\\keras\\optimizer_v2\\optimizer_v2.py:374: UserWarning: The `lr` argument is deprecated, use `learning_rate` instead.\n",
      "  warnings.warn(\n"
     ]
    },
    {
     "name": "stdout",
     "output_type": "stream",
     "text": [
      "[CV 3/5; 10/12] END ................batch_size=40, epochs=25; total time=   1.4s\n",
      "[CV 4/5; 10/12] START batch_size=40, epochs=25..................................\n"
     ]
    },
    {
     "name": "stderr",
     "output_type": "stream",
     "text": [
      "C:\\Users\\sanjana\\anaconda3\\lib\\site-packages\\tensorflow\\python\\keras\\optimizer_v2\\optimizer_v2.py:374: UserWarning: The `lr` argument is deprecated, use `learning_rate` instead.\n",
      "  warnings.warn(\n"
     ]
    },
    {
     "name": "stdout",
     "output_type": "stream",
     "text": [
      "[CV 4/5; 10/12] END ................batch_size=40, epochs=25; total time=   1.3s\n",
      "[CV 5/5; 10/12] START batch_size=40, epochs=25..................................\n"
     ]
    },
    {
     "name": "stderr",
     "output_type": "stream",
     "text": [
      "C:\\Users\\sanjana\\anaconda3\\lib\\site-packages\\tensorflow\\python\\keras\\optimizer_v2\\optimizer_v2.py:374: UserWarning: The `lr` argument is deprecated, use `learning_rate` instead.\n",
      "  warnings.warn(\n"
     ]
    },
    {
     "name": "stdout",
     "output_type": "stream",
     "text": [
      "[CV 5/5; 10/12] END ................batch_size=40, epochs=25; total time=   1.3s\n",
      "[CV 1/5; 11/12] START batch_size=40, epochs=50..................................\n"
     ]
    },
    {
     "name": "stderr",
     "output_type": "stream",
     "text": [
      "C:\\Users\\sanjana\\anaconda3\\lib\\site-packages\\tensorflow\\python\\keras\\optimizer_v2\\optimizer_v2.py:374: UserWarning: The `lr` argument is deprecated, use `learning_rate` instead.\n",
      "  warnings.warn(\n"
     ]
    },
    {
     "name": "stdout",
     "output_type": "stream",
     "text": [
      "[CV 1/5; 11/12] END ................batch_size=40, epochs=50; total time=   1.9s\n",
      "[CV 2/5; 11/12] START batch_size=40, epochs=50..................................\n"
     ]
    },
    {
     "name": "stderr",
     "output_type": "stream",
     "text": [
      "C:\\Users\\sanjana\\anaconda3\\lib\\site-packages\\tensorflow\\python\\keras\\optimizer_v2\\optimizer_v2.py:374: UserWarning: The `lr` argument is deprecated, use `learning_rate` instead.\n",
      "  warnings.warn(\n"
     ]
    },
    {
     "name": "stdout",
     "output_type": "stream",
     "text": [
      "[CV 2/5; 11/12] END ................batch_size=40, epochs=50; total time=   1.7s\n",
      "[CV 3/5; 11/12] START batch_size=40, epochs=50..................................\n"
     ]
    },
    {
     "name": "stderr",
     "output_type": "stream",
     "text": [
      "C:\\Users\\sanjana\\anaconda3\\lib\\site-packages\\tensorflow\\python\\keras\\optimizer_v2\\optimizer_v2.py:374: UserWarning: The `lr` argument is deprecated, use `learning_rate` instead.\n",
      "  warnings.warn(\n"
     ]
    },
    {
     "name": "stdout",
     "output_type": "stream",
     "text": [
      "[CV 3/5; 11/12] END ................batch_size=40, epochs=50; total time=   1.6s\n",
      "[CV 4/5; 11/12] START batch_size=40, epochs=50..................................\n"
     ]
    },
    {
     "name": "stderr",
     "output_type": "stream",
     "text": [
      "C:\\Users\\sanjana\\anaconda3\\lib\\site-packages\\tensorflow\\python\\keras\\optimizer_v2\\optimizer_v2.py:374: UserWarning: The `lr` argument is deprecated, use `learning_rate` instead.\n",
      "  warnings.warn(\n"
     ]
    },
    {
     "name": "stdout",
     "output_type": "stream",
     "text": [
      "[CV 4/5; 11/12] END ................batch_size=40, epochs=50; total time=   2.0s\n",
      "[CV 5/5; 11/12] START batch_size=40, epochs=50..................................\n"
     ]
    },
    {
     "name": "stderr",
     "output_type": "stream",
     "text": [
      "C:\\Users\\sanjana\\anaconda3\\lib\\site-packages\\tensorflow\\python\\keras\\optimizer_v2\\optimizer_v2.py:374: UserWarning: The `lr` argument is deprecated, use `learning_rate` instead.\n",
      "  warnings.warn(\n"
     ]
    },
    {
     "name": "stdout",
     "output_type": "stream",
     "text": [
      "[CV 5/5; 11/12] END ................batch_size=40, epochs=50; total time=   1.6s\n",
      "[CV 1/5; 12/12] START batch_size=40, epochs=100.................................\n"
     ]
    },
    {
     "name": "stderr",
     "output_type": "stream",
     "text": [
      "C:\\Users\\sanjana\\anaconda3\\lib\\site-packages\\tensorflow\\python\\keras\\optimizer_v2\\optimizer_v2.py:374: UserWarning: The `lr` argument is deprecated, use `learning_rate` instead.\n",
      "  warnings.warn(\n"
     ]
    },
    {
     "name": "stdout",
     "output_type": "stream",
     "text": [
      "[CV 1/5; 12/12] END ...............batch_size=40, epochs=100; total time=   2.4s\n",
      "[CV 2/5; 12/12] START batch_size=40, epochs=100.................................\n"
     ]
    },
    {
     "name": "stderr",
     "output_type": "stream",
     "text": [
      "C:\\Users\\sanjana\\anaconda3\\lib\\site-packages\\tensorflow\\python\\keras\\optimizer_v2\\optimizer_v2.py:374: UserWarning: The `lr` argument is deprecated, use `learning_rate` instead.\n",
      "  warnings.warn(\n"
     ]
    },
    {
     "name": "stdout",
     "output_type": "stream",
     "text": [
      "[CV 2/5; 12/12] END ...............batch_size=40, epochs=100; total time=   2.7s\n",
      "[CV 3/5; 12/12] START batch_size=40, epochs=100.................................\n"
     ]
    },
    {
     "name": "stderr",
     "output_type": "stream",
     "text": [
      "C:\\Users\\sanjana\\anaconda3\\lib\\site-packages\\tensorflow\\python\\keras\\optimizer_v2\\optimizer_v2.py:374: UserWarning: The `lr` argument is deprecated, use `learning_rate` instead.\n",
      "  warnings.warn(\n"
     ]
    },
    {
     "name": "stdout",
     "output_type": "stream",
     "text": [
      "[CV 3/5; 12/12] END ...............batch_size=40, epochs=100; total time=   2.4s\n",
      "[CV 4/5; 12/12] START batch_size=40, epochs=100.................................\n"
     ]
    },
    {
     "name": "stderr",
     "output_type": "stream",
     "text": [
      "C:\\Users\\sanjana\\anaconda3\\lib\\site-packages\\tensorflow\\python\\keras\\optimizer_v2\\optimizer_v2.py:374: UserWarning: The `lr` argument is deprecated, use `learning_rate` instead.\n",
      "  warnings.warn(\n"
     ]
    },
    {
     "name": "stdout",
     "output_type": "stream",
     "text": [
      "[CV 4/5; 12/12] END ...............batch_size=40, epochs=100; total time=   2.4s\n",
      "[CV 5/5; 12/12] START batch_size=40, epochs=100.................................\n"
     ]
    },
    {
     "name": "stderr",
     "output_type": "stream",
     "text": [
      "C:\\Users\\sanjana\\anaconda3\\lib\\site-packages\\tensorflow\\python\\keras\\optimizer_v2\\optimizer_v2.py:374: UserWarning: The `lr` argument is deprecated, use `learning_rate` instead.\n",
      "  warnings.warn(\n"
     ]
    },
    {
     "name": "stdout",
     "output_type": "stream",
     "text": [
      "[CV 5/5; 12/12] END ...............batch_size=40, epochs=100; total time=   2.4s\n"
     ]
    }
   ],
   "source": [
    "# Build and fit the GridSearchCV\n",
    "grid = GridSearchCV(estimator = ann,param_grid = param_grid,cv = KFold(),verbose = 10)\n",
    "grid_result = grid.fit(X_standardized,y)"
   ]
  },
  {
   "cell_type": "code",
   "execution_count": 33,
   "id": "0bc0d1da",
   "metadata": {},
   "outputs": [
    {
     "name": "stdout",
     "output_type": "stream",
     "text": [
      "Best : 0.9070761680603028, using {'batch_size': 20, 'epochs': 25}\n",
      "0.8780059695243836,0.057928796257910184 with: {'batch_size': 10, 'epochs': 10}\n",
      "0.8993465185165406,0.05544423982106186 with: {'batch_size': 10, 'epochs': 25}\n",
      "0.9051717638969421,0.05702056171757638 with: {'batch_size': 10, 'epochs': 50}\n",
      "0.8993465185165406,0.05544423982106186 with: {'batch_size': 10, 'epochs': 100}\n",
      "0.8587191820144653,0.05138737054791336 with: {'batch_size': 20, 'epochs': 10}\n",
      "0.9070761680603028,0.05019689541761551 with: {'batch_size': 20, 'epochs': 25}\n",
      "0.8993278622627259,0.05483432057882714 with: {'batch_size': 20, 'epochs': 50}\n",
      "0.9050784111022949,0.04762291291550233 with: {'batch_size': 20, 'epochs': 100}\n",
      "0.8140590071678162,0.09034620523762077 with: {'batch_size': 40, 'epochs': 10}\n",
      "0.8877147197723388,0.05347026792303918 with: {'batch_size': 40, 'epochs': 25}\n",
      "0.9032113432884217,0.046510226111232844 with: {'batch_size': 40, 'epochs': 50}\n",
      "0.9012509346008301,0.045531380122135395 with: {'batch_size': 40, 'epochs': 100}\n"
     ]
    }
   ],
   "source": [
    "# Summarize the results\n",
    "print('Best : {}, using {}'.format(grid_result.best_score_,grid_result.best_params_))\n",
    "means = grid_result.cv_results_['mean_test_score']\n",
    "stds = grid_result.cv_results_['std_test_score']\n",
    "params = grid_result.cv_results_['params']\n",
    "for mean, stdev, param in zip(means, stds, params):\n",
    "  print('{},{} with: {}'.format(mean, stdev, param))\n",
    "#According to this, the best batch size is 20 and epochs is 50"
   ]
  }
 ],
 "metadata": {
  "kernelspec": {
   "display_name": "Python 3",
   "language": "python",
   "name": "python3"
  },
  "language_info": {
   "codemirror_mode": {
    "name": "ipython",
    "version": 3
   },
   "file_extension": ".py",
   "mimetype": "text/x-python",
   "name": "python",
   "nbconvert_exporter": "python",
   "pygments_lexer": "ipython3",
   "version": "3.8.8"
  }
 },
 "nbformat": 4,
 "nbformat_minor": 5
}
