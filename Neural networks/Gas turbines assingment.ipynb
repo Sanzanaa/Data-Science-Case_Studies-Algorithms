{
 "cells": [
  {
   "cell_type": "markdown",
   "id": "43e60f06",
   "metadata": {},
   "source": [
    "The dataset contains 36733 instances of 11 sensor measures aggregated over one hour (by means of average or sum) from a gas turbine. \n",
    "The Dataset includes gas turbine parameters (such as Turbine Inlet Temperature and Compressor Discharge pressure) in addition to the ambient variables."
   ]
  },
  {
   "cell_type": "markdown",
   "id": "2905ca12",
   "metadata": {},
   "source": [
    "Problem statement: predicting turbine energy yield (TEY) using ambient variables as features."
   ]
  },
  {
   "cell_type": "code",
   "execution_count": 1,
   "id": "dc95fa10",
   "metadata": {},
   "outputs": [],
   "source": [
    "import pandas as pd\n",
    "import matplotlib.pyplot as plt\n",
    "import seaborn as sns\n",
    "import numpy as np"
   ]
  },
  {
   "cell_type": "code",
   "execution_count": 2,
   "id": "cbf7d10c",
   "metadata": {},
   "outputs": [],
   "source": [
    "# fix random seed for reproducibility\n",
    "seed = 7\n",
    "np.random.seed(seed)\n",
    "df=pd.read_csv('gas_turbines.csv')"
   ]
  },
  {
   "cell_type": "code",
   "execution_count": 3,
   "id": "d6d21336",
   "metadata": {},
   "outputs": [
    {
     "data": {
      "text/html": [
       "<div>\n",
       "<style scoped>\n",
       "    .dataframe tbody tr th:only-of-type {\n",
       "        vertical-align: middle;\n",
       "    }\n",
       "\n",
       "    .dataframe tbody tr th {\n",
       "        vertical-align: top;\n",
       "    }\n",
       "\n",
       "    .dataframe thead th {\n",
       "        text-align: right;\n",
       "    }\n",
       "</style>\n",
       "<table border=\"1\" class=\"dataframe\">\n",
       "  <thead>\n",
       "    <tr style=\"text-align: right;\">\n",
       "      <th></th>\n",
       "      <th>AT</th>\n",
       "      <th>AP</th>\n",
       "      <th>AH</th>\n",
       "      <th>AFDP</th>\n",
       "      <th>GTEP</th>\n",
       "      <th>TIT</th>\n",
       "      <th>TAT</th>\n",
       "      <th>TEY</th>\n",
       "      <th>CDP</th>\n",
       "      <th>CO</th>\n",
       "      <th>NOX</th>\n",
       "    </tr>\n",
       "  </thead>\n",
       "  <tbody>\n",
       "    <tr>\n",
       "      <th>0</th>\n",
       "      <td>6.8594</td>\n",
       "      <td>1007.9</td>\n",
       "      <td>96.799</td>\n",
       "      <td>3.5000</td>\n",
       "      <td>19.663</td>\n",
       "      <td>1059.2</td>\n",
       "      <td>550.00</td>\n",
       "      <td>114.70</td>\n",
       "      <td>10.605</td>\n",
       "      <td>3.1547</td>\n",
       "      <td>82.722</td>\n",
       "    </tr>\n",
       "    <tr>\n",
       "      <th>1</th>\n",
       "      <td>6.7850</td>\n",
       "      <td>1008.4</td>\n",
       "      <td>97.118</td>\n",
       "      <td>3.4998</td>\n",
       "      <td>19.728</td>\n",
       "      <td>1059.3</td>\n",
       "      <td>550.00</td>\n",
       "      <td>114.72</td>\n",
       "      <td>10.598</td>\n",
       "      <td>3.2363</td>\n",
       "      <td>82.776</td>\n",
       "    </tr>\n",
       "    <tr>\n",
       "      <th>2</th>\n",
       "      <td>6.8977</td>\n",
       "      <td>1008.8</td>\n",
       "      <td>95.939</td>\n",
       "      <td>3.4824</td>\n",
       "      <td>19.779</td>\n",
       "      <td>1059.4</td>\n",
       "      <td>549.87</td>\n",
       "      <td>114.71</td>\n",
       "      <td>10.601</td>\n",
       "      <td>3.2012</td>\n",
       "      <td>82.468</td>\n",
       "    </tr>\n",
       "    <tr>\n",
       "      <th>3</th>\n",
       "      <td>7.0569</td>\n",
       "      <td>1009.2</td>\n",
       "      <td>95.249</td>\n",
       "      <td>3.4805</td>\n",
       "      <td>19.792</td>\n",
       "      <td>1059.6</td>\n",
       "      <td>549.99</td>\n",
       "      <td>114.72</td>\n",
       "      <td>10.606</td>\n",
       "      <td>3.1923</td>\n",
       "      <td>82.670</td>\n",
       "    </tr>\n",
       "    <tr>\n",
       "      <th>4</th>\n",
       "      <td>7.3978</td>\n",
       "      <td>1009.7</td>\n",
       "      <td>95.150</td>\n",
       "      <td>3.4976</td>\n",
       "      <td>19.765</td>\n",
       "      <td>1059.7</td>\n",
       "      <td>549.98</td>\n",
       "      <td>114.72</td>\n",
       "      <td>10.612</td>\n",
       "      <td>3.2484</td>\n",
       "      <td>82.311</td>\n",
       "    </tr>\n",
       "  </tbody>\n",
       "</table>\n",
       "</div>"
      ],
      "text/plain": [
       "       AT      AP      AH    AFDP    GTEP     TIT     TAT     TEY     CDP  \\\n",
       "0  6.8594  1007.9  96.799  3.5000  19.663  1059.2  550.00  114.70  10.605   \n",
       "1  6.7850  1008.4  97.118  3.4998  19.728  1059.3  550.00  114.72  10.598   \n",
       "2  6.8977  1008.8  95.939  3.4824  19.779  1059.4  549.87  114.71  10.601   \n",
       "3  7.0569  1009.2  95.249  3.4805  19.792  1059.6  549.99  114.72  10.606   \n",
       "4  7.3978  1009.7  95.150  3.4976  19.765  1059.7  549.98  114.72  10.612   \n",
       "\n",
       "       CO     NOX  \n",
       "0  3.1547  82.722  \n",
       "1  3.2363  82.776  \n",
       "2  3.2012  82.468  \n",
       "3  3.1923  82.670  \n",
       "4  3.2484  82.311  "
      ]
     },
     "execution_count": 3,
     "metadata": {},
     "output_type": "execute_result"
    }
   ],
   "source": [
    "df.head()"
   ]
  },
  {
   "cell_type": "code",
   "execution_count": 4,
   "id": "44089ee3",
   "metadata": {},
   "outputs": [
    {
     "data": {
      "text/plain": [
       "Index(['AT', 'AP', 'AH', 'AFDP', 'GTEP', 'TIT', 'TAT', 'TEY', 'CDP', 'CO',\n",
       "       'NOX'],\n",
       "      dtype='object')"
      ]
     },
     "execution_count": 4,
     "metadata": {},
     "output_type": "execute_result"
    }
   ],
   "source": [
    "df.columns"
   ]
  },
  {
   "cell_type": "code",
   "execution_count": 5,
   "id": "2358569c",
   "metadata": {},
   "outputs": [],
   "source": [
    "X=df.drop(columns=['TEY'],axis=0).values"
   ]
  },
  {
   "cell_type": "code",
   "execution_count": 6,
   "id": "d0ae0833",
   "metadata": {},
   "outputs": [],
   "source": [
    "y = df['TEY'].values"
   ]
  },
  {
   "cell_type": "code",
   "execution_count": 7,
   "id": "cc154d06",
   "metadata": {},
   "outputs": [],
   "source": [
    "from sklearn.model_selection import train_test_split\n",
    "X_train, X_test, y_train, y_test = train_test_split(X, y, test_size = 0.2, random_state = 0)"
   ]
  },
  {
   "cell_type": "code",
   "execution_count": 12,
   "id": "419961d0",
   "metadata": {},
   "outputs": [],
   "source": [
    "from sklearn.preprocessing import MinMaxScaler\n",
    "from sklearn.preprocessing import StandardScaler"
   ]
  },
  {
   "cell_type": "code",
   "execution_count": 13,
   "id": "a6899b5f",
   "metadata": {},
   "outputs": [],
   "source": [
    "scaler = MinMaxScaler()\n",
    "scaler.fit(X_train)\n",
    "X_train = scaler.transform(X_train)\n",
    "X_test = scaler.transform(X_test)"
   ]
  },
  {
   "cell_type": "code",
   "execution_count": 14,
   "id": "71943bf0",
   "metadata": {},
   "outputs": [],
   "source": [
    "from tensorflow.keras.models import Sequential\n",
    "from tensorflow.keras.layers import Dense\n",
    "import numpy"
   ]
  },
  {
   "cell_type": "code",
   "execution_count": 23,
   "id": "74d15b66",
   "metadata": {},
   "outputs": [],
   "source": [
    "import tensorflow as tf"
   ]
  },
  {
   "cell_type": "code",
   "execution_count": 24,
   "id": "fc3d619a",
   "metadata": {},
   "outputs": [],
   "source": [
    "ann = tf.keras.models.Sequential()"
   ]
  },
  {
   "cell_type": "code",
   "execution_count": 25,
   "id": "5df606d1",
   "metadata": {},
   "outputs": [],
   "source": [
    "ann.add(tf.keras.layers.Dense(units=6, activation='relu'))"
   ]
  },
  {
   "cell_type": "code",
   "execution_count": 26,
   "id": "0e1c1601",
   "metadata": {},
   "outputs": [],
   "source": [
    "ann.add(tf.keras.layers.Dense(units=6, activation='relu'))"
   ]
  },
  {
   "cell_type": "code",
   "execution_count": 27,
   "id": "6dbcab17",
   "metadata": {},
   "outputs": [],
   "source": [
    "ann.add(tf.keras.layers.Dense(units=1))"
   ]
  },
  {
   "cell_type": "code",
   "execution_count": 38,
   "id": "bab6ae0c",
   "metadata": {},
   "outputs": [],
   "source": [
    "ann.compile(optimizer = 'adam', loss = 'mean_squared_error')\n"
   ]
  },
  {
   "cell_type": "code",
   "execution_count": 39,
   "id": "eb709a63",
   "metadata": {},
   "outputs": [
    {
     "name": "stdout",
     "output_type": "stream",
     "text": [
      "Epoch 1/100\n",
      "376/376 [==============================] - 1s 859us/step - loss: 0.5766\n",
      "Epoch 2/100\n",
      "376/376 [==============================] - 0s 872us/step - loss: 0.5719\n",
      "Epoch 3/100\n",
      "376/376 [==============================] - 0s 828us/step - loss: 0.5811\n",
      "Epoch 4/100\n",
      "376/376 [==============================] - 0s 777us/step - loss: 0.5843\n",
      "Epoch 5/100\n",
      "376/376 [==============================] - 0s 779us/step - loss: 0.5860\n",
      "Epoch 6/100\n",
      "376/376 [==============================] - 0s 791us/step - loss: 0.5804\n",
      "Epoch 7/100\n",
      "376/376 [==============================] - 0s 797us/step - loss: 0.5681\n",
      "Epoch 8/100\n",
      "376/376 [==============================] - 0s 762us/step - loss: 0.5773\n",
      "Epoch 9/100\n",
      "376/376 [==============================] - 0s 771us/step - loss: 0.5732\n",
      "Epoch 10/100\n",
      "376/376 [==============================] - 0s 771us/step - loss: 0.5753\n",
      "Epoch 11/100\n",
      "376/376 [==============================] - 0s 786us/step - loss: 0.5784\n",
      "Epoch 12/100\n",
      "376/376 [==============================] - 0s 800us/step - loss: 0.5741\n",
      "Epoch 13/100\n",
      "376/376 [==============================] - 0s 755us/step - loss: 0.5673\n",
      "Epoch 14/100\n",
      "376/376 [==============================] - 0s 778us/step - loss: 0.5706\n",
      "Epoch 15/100\n",
      "376/376 [==============================] - 0s 816us/step - loss: 0.5715\n",
      "Epoch 16/100\n",
      "376/376 [==============================] - 0s 763us/step - loss: 0.5714\n",
      "Epoch 17/100\n",
      "376/376 [==============================] - 0s 766us/step - loss: 0.5715\n",
      "Epoch 18/100\n",
      "376/376 [==============================] - 0s 771us/step - loss: 0.5730\n",
      "Epoch 19/100\n",
      "376/376 [==============================] - 0s 773us/step - loss: 0.5695\n",
      "Epoch 20/100\n",
      "376/376 [==============================] - 0s 805us/step - loss: 0.5702\n",
      "Epoch 21/100\n",
      "376/376 [==============================] - 0s 778us/step - loss: 0.5743\n",
      "Epoch 22/100\n",
      "376/376 [==============================] - 0s 810us/step - loss: 0.5636\n",
      "Epoch 23/100\n",
      "376/376 [==============================] - 0s 824us/step - loss: 0.5709\n",
      "Epoch 24/100\n",
      "376/376 [==============================] - 0s 839us/step - loss: 0.5773\n",
      "Epoch 25/100\n",
      "376/376 [==============================] - 0s 803us/step - loss: 0.5626\n",
      "Epoch 26/100\n",
      "376/376 [==============================] - 0s 792us/step - loss: 0.5715\n",
      "Epoch 27/100\n",
      "376/376 [==============================] - 0s 815us/step - loss: 0.5707\n",
      "Epoch 28/100\n",
      "376/376 [==============================] - 0s 780us/step - loss: 0.5705\n",
      "Epoch 29/100\n",
      "376/376 [==============================] - 0s 782us/step - loss: 0.5687\n",
      "Epoch 30/100\n",
      "376/376 [==============================] - 0s 798us/step - loss: 0.5697\n",
      "Epoch 31/100\n",
      "376/376 [==============================] - 0s 845us/step - loss: 0.5603\n",
      "Epoch 32/100\n",
      "376/376 [==============================] - 0s 784us/step - loss: 0.5779\n",
      "Epoch 33/100\n",
      "376/376 [==============================] - 0s 763us/step - loss: 0.5663\n",
      "Epoch 34/100\n",
      "376/376 [==============================] - 0s 794us/step - loss: 0.5610\n",
      "Epoch 35/100\n",
      "376/376 [==============================] - 0s 783us/step - loss: 0.5681\n",
      "Epoch 36/100\n",
      "376/376 [==============================] - 0s 783us/step - loss: 0.5656\n",
      "Epoch 37/100\n",
      "376/376 [==============================] - 0s 824us/step - loss: 0.5714\n",
      "Epoch 38/100\n",
      "376/376 [==============================] - 0s 767us/step - loss: 0.5771\n",
      "Epoch 39/100\n",
      "376/376 [==============================] - 0s 840us/step - loss: 0.5796\n",
      "Epoch 40/100\n",
      "376/376 [==============================] - 0s 806us/step - loss: 0.5630\n",
      "Epoch 41/100\n",
      "376/376 [==============================] - 0s 784us/step - loss: 0.5658\n",
      "Epoch 42/100\n",
      "376/376 [==============================] - 0s 786us/step - loss: 0.5617\n",
      "Epoch 43/100\n",
      "376/376 [==============================] - 0s 773us/step - loss: 0.5605\n",
      "Epoch 44/100\n",
      "376/376 [==============================] - 0s 780us/step - loss: 0.5744\n",
      "Epoch 45/100\n",
      "376/376 [==============================] - 0s 787us/step - loss: 0.5629\n",
      "Epoch 46/100\n",
      "376/376 [==============================] - 0s 765us/step - loss: 0.5712\n",
      "Epoch 47/100\n",
      "376/376 [==============================] - 0s 869us/step - loss: 0.5546\n",
      "Epoch 48/100\n",
      "376/376 [==============================] - 0s 808us/step - loss: 0.5605\n",
      "Epoch 49/100\n",
      "376/376 [==============================] - 0s 797us/step - loss: 0.5725\n",
      "Epoch 50/100\n",
      "376/376 [==============================] - 0s 772us/step - loss: 0.5855\n",
      "Epoch 51/100\n",
      "376/376 [==============================] - 0s 760us/step - loss: 0.5644\n",
      "Epoch 52/100\n",
      "376/376 [==============================] - 0s 834us/step - loss: 0.5671\n",
      "Epoch 53/100\n",
      "376/376 [==============================] - 0s 832us/step - loss: 0.5609\n",
      "Epoch 54/100\n",
      "376/376 [==============================] - 0s 801us/step - loss: 0.5637\n",
      "Epoch 55/100\n",
      "376/376 [==============================] - 0s 787us/step - loss: 0.5737\n",
      "Epoch 56/100\n",
      "376/376 [==============================] - 0s 789us/step - loss: 0.5651\n",
      "Epoch 57/100\n",
      "376/376 [==============================] - 0s 803us/step - loss: 0.5616\n",
      "Epoch 58/100\n",
      "376/376 [==============================] - 0s 790us/step - loss: 0.5640\n",
      "Epoch 59/100\n",
      "376/376 [==============================] - 0s 781us/step - loss: 0.5685\n",
      "Epoch 60/100\n",
      "376/376 [==============================] - 0s 773us/step - loss: 0.5539\n",
      "Epoch 61/100\n",
      "376/376 [==============================] - 0s 794us/step - loss: 0.5549\n",
      "Epoch 62/100\n",
      "376/376 [==============================] - 0s 791us/step - loss: 0.5739\n",
      "Epoch 63/100\n",
      "376/376 [==============================] - 0s 826us/step - loss: 0.5599\n",
      "Epoch 64/100\n",
      "376/376 [==============================] - 0s 775us/step - loss: 0.5682\n",
      "Epoch 65/100\n",
      "376/376 [==============================] - 0s 789us/step - loss: 0.5669\n",
      "Epoch 66/100\n",
      "376/376 [==============================] - 0s 794us/step - loss: 0.5584\n",
      "Epoch 67/100\n",
      "376/376 [==============================] - 0s 759us/step - loss: 0.5582\n",
      "Epoch 68/100\n",
      "376/376 [==============================] - 0s 795us/step - loss: 0.5585\n",
      "Epoch 69/100\n",
      "376/376 [==============================] - 0s 815us/step - loss: 0.5584\n",
      "Epoch 70/100\n",
      "376/376 [==============================] - 0s 770us/step - loss: 0.5598\n",
      "Epoch 71/100\n",
      "376/376 [==============================] - 0s 799us/step - loss: 0.5700\n",
      "Epoch 72/100\n",
      "376/376 [==============================] - 0s 793us/step - loss: 0.5654\n",
      "Epoch 73/100\n",
      "376/376 [==============================] - 0s 776us/step - loss: 0.5556\n",
      "Epoch 74/100\n",
      "376/376 [==============================] - 0s 772us/step - loss: 0.5651\n",
      "Epoch 75/100\n",
      "376/376 [==============================] - 0s 761us/step - loss: 0.5666\n",
      "Epoch 76/100\n",
      "376/376 [==============================] - 0s 790us/step - loss: 0.5617\n",
      "Epoch 77/100\n",
      "376/376 [==============================] - 0s 755us/step - loss: 0.5550\n",
      "Epoch 78/100\n",
      "376/376 [==============================] - 0s 809us/step - loss: 0.5616\n",
      "Epoch 79/100\n",
      "376/376 [==============================] - 0s 774us/step - loss: 0.5609\n",
      "Epoch 80/100\n",
      "376/376 [==============================] - 0s 790us/step - loss: 0.5683\n",
      "Epoch 81/100\n",
      "376/376 [==============================] - 0s 772us/step - loss: 0.5547\n",
      "Epoch 82/100\n",
      "376/376 [==============================] - 0s 802us/step - loss: 0.5600\n",
      "Epoch 83/100\n",
      "376/376 [==============================] - 0s 800us/step - loss: 0.5594\n",
      "Epoch 84/100\n",
      "376/376 [==============================] - 0s 794us/step - loss: 0.5537\n",
      "Epoch 85/100\n",
      "376/376 [==============================] - 0s 785us/step - loss: 0.5653\n",
      "Epoch 86/100\n",
      "376/376 [==============================] - 0s 765us/step - loss: 0.5547\n",
      "Epoch 87/100\n",
      "376/376 [==============================] - 0s 799us/step - loss: 0.5556\n",
      "Epoch 88/100\n",
      "376/376 [==============================] - 0s 776us/step - loss: 0.5687\n",
      "Epoch 89/100\n",
      "376/376 [==============================] - 0s 782us/step - loss: 0.5571\n",
      "Epoch 90/100\n",
      "376/376 [==============================] - 0s 761us/step - loss: 0.5533\n",
      "Epoch 91/100\n",
      "376/376 [==============================] - 0s 800us/step - loss: 0.5644\n",
      "Epoch 92/100\n",
      "376/376 [==============================] - 0s 786us/step - loss: 0.5582\n",
      "Epoch 93/100\n",
      "376/376 [==============================] - 0s 793us/step - loss: 0.5534\n",
      "Epoch 94/100\n",
      "376/376 [==============================] - 0s 776us/step - loss: 0.5556\n",
      "Epoch 95/100\n",
      "376/376 [==============================] - 0s 797us/step - loss: 0.5658\n",
      "Epoch 96/100\n",
      "376/376 [==============================] - 0s 790us/step - loss: 0.5515\n",
      "Epoch 97/100\n"
     ]
    },
    {
     "name": "stdout",
     "output_type": "stream",
     "text": [
      "376/376 [==============================] - 0s 784us/step - loss: 0.5559\n",
      "Epoch 98/100\n",
      "376/376 [==============================] - 0s 839us/step - loss: 0.5525\n",
      "Epoch 99/100\n",
      "376/376 [==============================] - 0s 790us/step - loss: 0.5559\n",
      "Epoch 100/100\n",
      "376/376 [==============================] - 0s 752us/step - loss: 0.5594\n"
     ]
    },
    {
     "data": {
      "text/plain": [
       "<tensorflow.python.keras.callbacks.History at 0x1b778c78ee0>"
      ]
     },
     "execution_count": 39,
     "metadata": {},
     "output_type": "execute_result"
    }
   ],
   "source": [
    "ann.fit(X_train, y_train, batch_size = 32, epochs = 100)"
   ]
  },
  {
   "cell_type": "code",
   "execution_count": 40,
   "id": "4c34a116",
   "metadata": {},
   "outputs": [
    {
     "name": "stdout",
     "output_type": "stream",
     "text": [
      "[[133.69 134.06]\n",
      " [156.97 155.98]\n",
      " [134.4  133.77]\n",
      " ...\n",
      " [132.74 133.23]\n",
      " [134.46 134.71]\n",
      " [133.63 133.76]]\n"
     ]
    }
   ],
   "source": [
    "y_pred = ann.predict(X_test)\n",
    "np.set_printoptions(precision=2)\n",
    "print(np.concatenate((y_pred.reshape(len(y_pred),1), y_test.reshape(len(y_test),1)),1))"
   ]
  }
 ],
 "metadata": {
  "kernelspec": {
   "display_name": "Python 3",
   "language": "python",
   "name": "python3"
  },
  "language_info": {
   "codemirror_mode": {
    "name": "ipython",
    "version": 3
   },
   "file_extension": ".py",
   "mimetype": "text/x-python",
   "name": "python",
   "nbconvert_exporter": "python",
   "pygments_lexer": "ipython3",
   "version": "3.8.8"
  }
 },
 "nbformat": 4,
 "nbformat_minor": 5
}
