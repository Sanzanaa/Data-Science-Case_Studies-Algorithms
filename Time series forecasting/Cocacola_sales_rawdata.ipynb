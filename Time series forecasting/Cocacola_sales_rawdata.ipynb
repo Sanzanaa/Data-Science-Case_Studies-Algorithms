{
 "cells": [
  {
   "cell_type": "code",
   "execution_count": 1,
   "id": "7f0b7804",
   "metadata": {},
   "outputs": [],
   "source": [
    "import numpy as np\n",
    "import pandas as pd\n",
    "import matplotlib.pyplot as plt\n",
    "import seaborn as sns"
   ]
  },
  {
   "cell_type": "code",
   "execution_count": 2,
   "id": "8a9c3ac9",
   "metadata": {},
   "outputs": [
    {
     "name": "stdout",
     "output_type": "stream",
     "text": [
      "Requirement already satisfied: xlrd in c:\\users\\sanjana\\anaconda3\\lib\\site-packages (2.0.1)\n",
      "Note: you may need to restart the kernel to use updated packages.\n"
     ]
    },
    {
     "name": "stderr",
     "output_type": "stream",
     "text": [
      "WARNING: Ignoring invalid distribution -rotobuf (c:\\users\\sanjana\\anaconda3\\lib\\site-packages)\n",
      "WARNING: Ignoring invalid distribution -rotobuf (c:\\users\\sanjana\\anaconda3\\lib\\site-packages)\n",
      "WARNING: Ignoring invalid distribution -rotobuf (c:\\users\\sanjana\\anaconda3\\lib\\site-packages)\n",
      "WARNING: Ignoring invalid distribution -rotobuf (c:\\users\\sanjana\\anaconda3\\lib\\site-packages)\n"
     ]
    }
   ],
   "source": [
    "pip install xlrd"
   ]
  },
  {
   "cell_type": "code",
   "execution_count": 3,
   "id": "12dc908c",
   "metadata": {},
   "outputs": [
    {
     "name": "stdout",
     "output_type": "stream",
     "text": [
      "Requirement already satisfied: openpyxl in c:\\users\\sanjana\\anaconda3\\lib\\site-packages (3.0.7)Note: you may need to restart the kernel to use updated packages.\n",
      "Requirement already satisfied: et-xmlfile in c:\\users\\sanjana\\anaconda3\\lib\\site-packages (from openpyxl) (1.0.1)\n",
      "\n"
     ]
    },
    {
     "name": "stderr",
     "output_type": "stream",
     "text": [
      "WARNING: Ignoring invalid distribution -rotobuf (c:\\users\\sanjana\\anaconda3\\lib\\site-packages)\n",
      "WARNING: Ignoring invalid distribution -rotobuf (c:\\users\\sanjana\\anaconda3\\lib\\site-packages)\n",
      "WARNING: Ignoring invalid distribution -rotobuf (c:\\users\\sanjana\\anaconda3\\lib\\site-packages)\n",
      "WARNING: Ignoring invalid distribution -rotobuf (c:\\users\\sanjana\\anaconda3\\lib\\site-packages)\n"
     ]
    }
   ],
   "source": [
    "pip install openpyxl "
   ]
  },
  {
   "cell_type": "code",
   "execution_count": 4,
   "id": "c666a0d7",
   "metadata": {},
   "outputs": [
    {
     "data": {
      "text/html": [
       "<div>\n",
       "<style scoped>\n",
       "    .dataframe tbody tr th:only-of-type {\n",
       "        vertical-align: middle;\n",
       "    }\n",
       "\n",
       "    .dataframe tbody tr th {\n",
       "        vertical-align: top;\n",
       "    }\n",
       "\n",
       "    .dataframe thead th {\n",
       "        text-align: right;\n",
       "    }\n",
       "</style>\n",
       "<table border=\"1\" class=\"dataframe\">\n",
       "  <thead>\n",
       "    <tr style=\"text-align: right;\">\n",
       "      <th></th>\n",
       "      <th>Quarter</th>\n",
       "      <th>Sales</th>\n",
       "    </tr>\n",
       "  </thead>\n",
       "  <tbody>\n",
       "    <tr>\n",
       "      <th>0</th>\n",
       "      <td>Q1_86</td>\n",
       "      <td>1734.827000</td>\n",
       "    </tr>\n",
       "    <tr>\n",
       "      <th>1</th>\n",
       "      <td>Q2_86</td>\n",
       "      <td>2244.960999</td>\n",
       "    </tr>\n",
       "    <tr>\n",
       "      <th>2</th>\n",
       "      <td>Q3_86</td>\n",
       "      <td>2533.804993</td>\n",
       "    </tr>\n",
       "    <tr>\n",
       "      <th>3</th>\n",
       "      <td>Q4_86</td>\n",
       "      <td>2154.962997</td>\n",
       "    </tr>\n",
       "    <tr>\n",
       "      <th>4</th>\n",
       "      <td>Q1_87</td>\n",
       "      <td>1547.818996</td>\n",
       "    </tr>\n",
       "  </tbody>\n",
       "</table>\n",
       "</div>"
      ],
      "text/plain": [
       "  Quarter        Sales\n",
       "0   Q1_86  1734.827000\n",
       "1   Q2_86  2244.960999\n",
       "2   Q3_86  2533.804993\n",
       "3   Q4_86  2154.962997\n",
       "4   Q1_87  1547.818996"
      ]
     },
     "execution_count": 4,
     "metadata": {},
     "output_type": "execute_result"
    }
   ],
   "source": [
    "cocacola= pd.read_excel('CocaCola_Sales_Rawdata.xlsx',sheet_name='Sheet1')\n",
    "cocacola.head()"
   ]
  },
  {
   "cell_type": "code",
   "execution_count": 5,
   "id": "15445cb6",
   "metadata": {},
   "outputs": [
    {
     "data": {
      "text/html": [
       "<div>\n",
       "<style scoped>\n",
       "    .dataframe tbody tr th:only-of-type {\n",
       "        vertical-align: middle;\n",
       "    }\n",
       "\n",
       "    .dataframe tbody tr th {\n",
       "        vertical-align: top;\n",
       "    }\n",
       "\n",
       "    .dataframe thead th {\n",
       "        text-align: right;\n",
       "    }\n",
       "</style>\n",
       "<table border=\"1\" class=\"dataframe\">\n",
       "  <thead>\n",
       "    <tr style=\"text-align: right;\">\n",
       "      <th></th>\n",
       "      <th>Quarter</th>\n",
       "      <th>Sales</th>\n",
       "    </tr>\n",
       "  </thead>\n",
       "  <tbody>\n",
       "    <tr>\n",
       "      <th>0</th>\n",
       "      <td>Q1_86</td>\n",
       "      <td>1734.827000</td>\n",
       "    </tr>\n",
       "    <tr>\n",
       "      <th>1</th>\n",
       "      <td>Q2_86</td>\n",
       "      <td>2244.960999</td>\n",
       "    </tr>\n",
       "    <tr>\n",
       "      <th>2</th>\n",
       "      <td>Q3_86</td>\n",
       "      <td>2533.804993</td>\n",
       "    </tr>\n",
       "    <tr>\n",
       "      <th>3</th>\n",
       "      <td>Q4_86</td>\n",
       "      <td>2154.962997</td>\n",
       "    </tr>\n",
       "    <tr>\n",
       "      <th>4</th>\n",
       "      <td>Q1_87</td>\n",
       "      <td>1547.818996</td>\n",
       "    </tr>\n",
       "    <tr>\n",
       "      <th>5</th>\n",
       "      <td>Q2_87</td>\n",
       "      <td>2104.411995</td>\n",
       "    </tr>\n",
       "    <tr>\n",
       "      <th>6</th>\n",
       "      <td>Q3_87</td>\n",
       "      <td>2014.362999</td>\n",
       "    </tr>\n",
       "    <tr>\n",
       "      <th>7</th>\n",
       "      <td>Q4_87</td>\n",
       "      <td>1991.746998</td>\n",
       "    </tr>\n",
       "    <tr>\n",
       "      <th>8</th>\n",
       "      <td>Q1_88</td>\n",
       "      <td>1869.049999</td>\n",
       "    </tr>\n",
       "    <tr>\n",
       "      <th>9</th>\n",
       "      <td>Q2_88</td>\n",
       "      <td>2313.631996</td>\n",
       "    </tr>\n",
       "    <tr>\n",
       "      <th>10</th>\n",
       "      <td>Q3_88</td>\n",
       "      <td>2128.320000</td>\n",
       "    </tr>\n",
       "    <tr>\n",
       "      <th>11</th>\n",
       "      <td>Q4_88</td>\n",
       "      <td>2026.828999</td>\n",
       "    </tr>\n",
       "    <tr>\n",
       "      <th>12</th>\n",
       "      <td>Q1_89</td>\n",
       "      <td>1910.603996</td>\n",
       "    </tr>\n",
       "    <tr>\n",
       "      <th>13</th>\n",
       "      <td>Q2_89</td>\n",
       "      <td>2331.164993</td>\n",
       "    </tr>\n",
       "    <tr>\n",
       "      <th>14</th>\n",
       "      <td>Q3_89</td>\n",
       "      <td>2206.549995</td>\n",
       "    </tr>\n",
       "    <tr>\n",
       "      <th>15</th>\n",
       "      <td>Q4_89</td>\n",
       "      <td>2173.967995</td>\n",
       "    </tr>\n",
       "    <tr>\n",
       "      <th>16</th>\n",
       "      <td>Q1_90</td>\n",
       "      <td>2148.278000</td>\n",
       "    </tr>\n",
       "    <tr>\n",
       "      <th>17</th>\n",
       "      <td>Q2_90</td>\n",
       "      <td>2739.307999</td>\n",
       "    </tr>\n",
       "    <tr>\n",
       "      <th>18</th>\n",
       "      <td>Q3_90</td>\n",
       "      <td>2792.753998</td>\n",
       "    </tr>\n",
       "    <tr>\n",
       "      <th>19</th>\n",
       "      <td>Q4_90</td>\n",
       "      <td>2556.009995</td>\n",
       "    </tr>\n",
       "    <tr>\n",
       "      <th>20</th>\n",
       "      <td>Q1_91</td>\n",
       "      <td>2480.973999</td>\n",
       "    </tr>\n",
       "    <tr>\n",
       "      <th>21</th>\n",
       "      <td>Q2_91</td>\n",
       "      <td>3039.522995</td>\n",
       "    </tr>\n",
       "    <tr>\n",
       "      <th>22</th>\n",
       "      <td>Q3_91</td>\n",
       "      <td>3172.115997</td>\n",
       "    </tr>\n",
       "    <tr>\n",
       "      <th>23</th>\n",
       "      <td>Q4_91</td>\n",
       "      <td>2879.000999</td>\n",
       "    </tr>\n",
       "    <tr>\n",
       "      <th>24</th>\n",
       "      <td>Q1_92</td>\n",
       "      <td>2772.000000</td>\n",
       "    </tr>\n",
       "    <tr>\n",
       "      <th>25</th>\n",
       "      <td>Q2_92</td>\n",
       "      <td>3550.000000</td>\n",
       "    </tr>\n",
       "    <tr>\n",
       "      <th>26</th>\n",
       "      <td>Q3_92</td>\n",
       "      <td>3508.000000</td>\n",
       "    </tr>\n",
       "    <tr>\n",
       "      <th>27</th>\n",
       "      <td>Q4_92</td>\n",
       "      <td>3243.859993</td>\n",
       "    </tr>\n",
       "    <tr>\n",
       "      <th>28</th>\n",
       "      <td>Q1_93</td>\n",
       "      <td>3056.000000</td>\n",
       "    </tr>\n",
       "    <tr>\n",
       "      <th>29</th>\n",
       "      <td>Q2_93</td>\n",
       "      <td>3899.000000</td>\n",
       "    </tr>\n",
       "    <tr>\n",
       "      <th>30</th>\n",
       "      <td>Q3_93</td>\n",
       "      <td>3629.000000</td>\n",
       "    </tr>\n",
       "    <tr>\n",
       "      <th>31</th>\n",
       "      <td>Q4_93</td>\n",
       "      <td>3373.000000</td>\n",
       "    </tr>\n",
       "    <tr>\n",
       "      <th>32</th>\n",
       "      <td>Q1_94</td>\n",
       "      <td>3352.000000</td>\n",
       "    </tr>\n",
       "    <tr>\n",
       "      <th>33</th>\n",
       "      <td>Q2_94</td>\n",
       "      <td>4342.000000</td>\n",
       "    </tr>\n",
       "    <tr>\n",
       "      <th>34</th>\n",
       "      <td>Q3_94</td>\n",
       "      <td>4461.000000</td>\n",
       "    </tr>\n",
       "    <tr>\n",
       "      <th>35</th>\n",
       "      <td>Q4_94</td>\n",
       "      <td>4017.000000</td>\n",
       "    </tr>\n",
       "    <tr>\n",
       "      <th>36</th>\n",
       "      <td>Q1_95</td>\n",
       "      <td>3854.000000</td>\n",
       "    </tr>\n",
       "    <tr>\n",
       "      <th>37</th>\n",
       "      <td>Q2_95</td>\n",
       "      <td>4936.000000</td>\n",
       "    </tr>\n",
       "    <tr>\n",
       "      <th>38</th>\n",
       "      <td>Q3_95</td>\n",
       "      <td>4895.000000</td>\n",
       "    </tr>\n",
       "    <tr>\n",
       "      <th>39</th>\n",
       "      <td>Q4_95</td>\n",
       "      <td>4333.000000</td>\n",
       "    </tr>\n",
       "    <tr>\n",
       "      <th>40</th>\n",
       "      <td>Q1_96</td>\n",
       "      <td>4194.000000</td>\n",
       "    </tr>\n",
       "    <tr>\n",
       "      <th>41</th>\n",
       "      <td>Q2_96</td>\n",
       "      <td>5253.000000</td>\n",
       "    </tr>\n",
       "  </tbody>\n",
       "</table>\n",
       "</div>"
      ],
      "text/plain": [
       "   Quarter        Sales\n",
       "0    Q1_86  1734.827000\n",
       "1    Q2_86  2244.960999\n",
       "2    Q3_86  2533.804993\n",
       "3    Q4_86  2154.962997\n",
       "4    Q1_87  1547.818996\n",
       "5    Q2_87  2104.411995\n",
       "6    Q3_87  2014.362999\n",
       "7    Q4_87  1991.746998\n",
       "8    Q1_88  1869.049999\n",
       "9    Q2_88  2313.631996\n",
       "10   Q3_88  2128.320000\n",
       "11   Q4_88  2026.828999\n",
       "12   Q1_89  1910.603996\n",
       "13   Q2_89  2331.164993\n",
       "14   Q3_89  2206.549995\n",
       "15   Q4_89  2173.967995\n",
       "16   Q1_90  2148.278000\n",
       "17   Q2_90  2739.307999\n",
       "18   Q3_90  2792.753998\n",
       "19   Q4_90  2556.009995\n",
       "20   Q1_91  2480.973999\n",
       "21   Q2_91  3039.522995\n",
       "22   Q3_91  3172.115997\n",
       "23   Q4_91  2879.000999\n",
       "24   Q1_92  2772.000000\n",
       "25   Q2_92  3550.000000\n",
       "26   Q3_92  3508.000000\n",
       "27   Q4_92  3243.859993\n",
       "28   Q1_93  3056.000000\n",
       "29   Q2_93  3899.000000\n",
       "30   Q3_93  3629.000000\n",
       "31   Q4_93  3373.000000\n",
       "32   Q1_94  3352.000000\n",
       "33   Q2_94  4342.000000\n",
       "34   Q3_94  4461.000000\n",
       "35   Q4_94  4017.000000\n",
       "36   Q1_95  3854.000000\n",
       "37   Q2_95  4936.000000\n",
       "38   Q3_95  4895.000000\n",
       "39   Q4_95  4333.000000\n",
       "40   Q1_96  4194.000000\n",
       "41   Q2_96  5253.000000"
      ]
     },
     "execution_count": 5,
     "metadata": {},
     "output_type": "execute_result"
    }
   ],
   "source": [
    "cocacola"
   ]
  },
  {
   "cell_type": "code",
   "execution_count": 6,
   "id": "6aee5035",
   "metadata": {},
   "outputs": [
    {
     "data": {
      "text/html": [
       "<div>\n",
       "<style scoped>\n",
       "    .dataframe tbody tr th:only-of-type {\n",
       "        vertical-align: middle;\n",
       "    }\n",
       "\n",
       "    .dataframe tbody tr th {\n",
       "        vertical-align: top;\n",
       "    }\n",
       "\n",
       "    .dataframe thead th {\n",
       "        text-align: right;\n",
       "    }\n",
       "</style>\n",
       "<table border=\"1\" class=\"dataframe\">\n",
       "  <thead>\n",
       "    <tr style=\"text-align: right;\">\n",
       "      <th></th>\n",
       "      <th>Sales</th>\n",
       "    </tr>\n",
       "  </thead>\n",
       "  <tbody>\n",
       "    <tr>\n",
       "      <th>count</th>\n",
       "      <td>42.000000</td>\n",
       "    </tr>\n",
       "    <tr>\n",
       "      <th>mean</th>\n",
       "      <td>2994.353308</td>\n",
       "    </tr>\n",
       "    <tr>\n",
       "      <th>std</th>\n",
       "      <td>977.930896</td>\n",
       "    </tr>\n",
       "    <tr>\n",
       "      <th>min</th>\n",
       "      <td>1547.818996</td>\n",
       "    </tr>\n",
       "    <tr>\n",
       "      <th>25%</th>\n",
       "      <td>2159.714247</td>\n",
       "    </tr>\n",
       "    <tr>\n",
       "      <th>50%</th>\n",
       "      <td>2782.376999</td>\n",
       "    </tr>\n",
       "    <tr>\n",
       "      <th>75%</th>\n",
       "      <td>3609.250000</td>\n",
       "    </tr>\n",
       "    <tr>\n",
       "      <th>max</th>\n",
       "      <td>5253.000000</td>\n",
       "    </tr>\n",
       "  </tbody>\n",
       "</table>\n",
       "</div>"
      ],
      "text/plain": [
       "             Sales\n",
       "count    42.000000\n",
       "mean   2994.353308\n",
       "std     977.930896\n",
       "min    1547.818996\n",
       "25%    2159.714247\n",
       "50%    2782.376999\n",
       "75%    3609.250000\n",
       "max    5253.000000"
      ]
     },
     "execution_count": 6,
     "metadata": {},
     "output_type": "execute_result"
    }
   ],
   "source": [
    "cocacola.describe()"
   ]
  },
  {
   "cell_type": "code",
   "execution_count": 7,
   "id": "ee33e8c7",
   "metadata": {},
   "outputs": [
    {
     "name": "stdout",
     "output_type": "stream",
     "text": [
      "<class 'pandas.core.frame.DataFrame'>\n",
      "RangeIndex: 42 entries, 0 to 41\n",
      "Data columns (total 2 columns):\n",
      " #   Column   Non-Null Count  Dtype  \n",
      "---  ------   --------------  -----  \n",
      " 0   Quarter  42 non-null     object \n",
      " 1   Sales    42 non-null     float64\n",
      "dtypes: float64(1), object(1)\n",
      "memory usage: 800.0+ bytes\n"
     ]
    }
   ],
   "source": [
    "cocacola.info()"
   ]
  },
  {
   "cell_type": "code",
   "execution_count": 8,
   "id": "bfc5c0ac",
   "metadata": {},
   "outputs": [
    {
     "data": {
      "text/plain": [
       "<AxesSubplot:>"
      ]
     },
     "execution_count": 8,
     "metadata": {},
     "output_type": "execute_result"
    },
    {
     "data": {
      "image/png": "[encoded data removed]",
      "text/plain": [
       "<Figure size 432x288 with 1 Axes>"
      ]
     },
     "metadata": {
      "needs_background": "light"
     },
     "output_type": "display_data"
    }
   ],
   "source": [
    "cocacola.Sales.plot()"
   ]
  },
  {
   "cell_type": "code",
   "execution_count": 9,
   "id": "f1092c46",
   "metadata": {},
   "outputs": [
    {
     "name": "stderr",
     "output_type": "stream",
     "text": [
      "<ipython-input-9-5a8792f18232>:5: SettingWithCopyWarning: \n",
      "A value is trying to be set on a copy of a slice from a DataFrame\n",
      "\n",
      "See the caveats in the documentation: https://pandas.pydata.org/pandas-docs/stable/user_guide/indexing.html#returning-a-view-versus-a-copy\n",
      "  cocacola['Quarters'][i]= p[0:2]\n",
      "C:\\Users\\sanjana\\anaconda3\\lib\\site-packages\\pandas\\core\\indexing.py:1637: SettingWithCopyWarning: \n",
      "A value is trying to be set on a copy of a slice from a DataFrame\n",
      "\n",
      "See the caveats in the documentation: https://pandas.pydata.org/pandas-docs/stable/user_guide/indexing.html#returning-a-view-versus-a-copy\n",
      "  self._setitem_single_block(indexer, value, name)\n",
      "<ipython-input-9-5a8792f18232>:6: SettingWithCopyWarning: \n",
      "A value is trying to be set on a copy of a slice from a DataFrame\n",
      "\n",
      "See the caveats in the documentation: https://pandas.pydata.org/pandas-docs/stable/user_guide/indexing.html#returning-a-view-versus-a-copy\n",
      "  cocacola['Year'][i]= p[3:5]\n"
     ]
    }
   ],
   "source": [
    "cocacola['Quarters']= 0\n",
    "cocacola['Year'] = 0\n",
    "for i in range(42):\n",
    "    p = cocacola[\"Quarter\"][i]\n",
    "    cocacola['Quarters'][i]= p[0:2]\n",
    "    cocacola['Year'][i]= p[3:5]"
   ]
  },
  {
   "cell_type": "code",
   "execution_count": 10,
   "id": "a6024372",
   "metadata": {},
   "outputs": [],
   "source": [
    "# Prepring dummies \n",
    "Quarters_Dummies = pd.DataFrame(pd.get_dummies(cocacola['Quarters']))\n",
    "cocacola1 = pd.concat([cocacola,Quarters_Dummies],axis = 1)"
   ]
  },
  {
   "cell_type": "code",
   "execution_count": 11,
   "id": "f63dc69d",
   "metadata": {},
   "outputs": [],
   "source": [
    "cocacola1[\"t\"]=np.arange(1,43)"
   ]
  },
  {
   "cell_type": "code",
   "execution_count": 12,
   "id": "fca36fc8",
   "metadata": {},
   "outputs": [
    {
     "data": {
      "text/plain": [
       "Index(['Quarter', 'Sales', 'Quarters', 'Year', 'Q1', 'Q2', 'Q3', 'Q4', 't',\n",
       "       't_squared'],\n",
       "      dtype='object')"
      ]
     },
     "execution_count": 12,
     "metadata": {},
     "output_type": "execute_result"
    }
   ],
   "source": [
    "cocacola1[\"t_squared\"] = cocacola1[\"t\"]*cocacola1[\"t\"]\n",
    "cocacola1.columns"
   ]
  },
  {
   "cell_type": "code",
   "execution_count": 13,
   "id": "2d30ee1d",
   "metadata": {},
   "outputs": [],
   "source": [
    "cocacola1[\"Log_Sales\"]=np.log(cocacola1[\"Sales\"])"
   ]
  },
  {
   "cell_type": "code",
   "execution_count": 14,
   "id": "ff1c1403",
   "metadata": {},
   "outputs": [
    {
     "data": {
      "text/html": [
       "<div>\n",
       "<style scoped>\n",
       "    .dataframe tbody tr th:only-of-type {\n",
       "        vertical-align: middle;\n",
       "    }\n",
       "\n",
       "    .dataframe tbody tr th {\n",
       "        vertical-align: top;\n",
       "    }\n",
       "\n",
       "    .dataframe thead th {\n",
       "        text-align: right;\n",
       "    }\n",
       "</style>\n",
       "<table border=\"1\" class=\"dataframe\">\n",
       "  <thead>\n",
       "    <tr style=\"text-align: right;\">\n",
       "      <th></th>\n",
       "      <th>Quarter</th>\n",
       "      <th>Sales</th>\n",
       "      <th>Quarters</th>\n",
       "      <th>Year</th>\n",
       "      <th>Q1</th>\n",
       "      <th>Q2</th>\n",
       "      <th>Q3</th>\n",
       "      <th>Q4</th>\n",
       "      <th>t</th>\n",
       "      <th>t_squared</th>\n",
       "      <th>Log_Sales</th>\n",
       "    </tr>\n",
       "  </thead>\n",
       "  <tbody>\n",
       "    <tr>\n",
       "      <th>0</th>\n",
       "      <td>Q1_86</td>\n",
       "      <td>1734.827000</td>\n",
       "      <td>Q1</td>\n",
       "      <td>86</td>\n",
       "      <td>1</td>\n",
       "      <td>0</td>\n",
       "      <td>0</td>\n",
       "      <td>0</td>\n",
       "      <td>1</td>\n",
       "      <td>1</td>\n",
       "      <td>7.458663</td>\n",
       "    </tr>\n",
       "    <tr>\n",
       "      <th>1</th>\n",
       "      <td>Q2_86</td>\n",
       "      <td>2244.960999</td>\n",
       "      <td>Q2</td>\n",
       "      <td>86</td>\n",
       "      <td>0</td>\n",
       "      <td>1</td>\n",
       "      <td>0</td>\n",
       "      <td>0</td>\n",
       "      <td>2</td>\n",
       "      <td>4</td>\n",
       "      <td>7.716443</td>\n",
       "    </tr>\n",
       "    <tr>\n",
       "      <th>2</th>\n",
       "      <td>Q3_86</td>\n",
       "      <td>2533.804993</td>\n",
       "      <td>Q3</td>\n",
       "      <td>86</td>\n",
       "      <td>0</td>\n",
       "      <td>0</td>\n",
       "      <td>1</td>\n",
       "      <td>0</td>\n",
       "      <td>3</td>\n",
       "      <td>9</td>\n",
       "      <td>7.837477</td>\n",
       "    </tr>\n",
       "    <tr>\n",
       "      <th>3</th>\n",
       "      <td>Q4_86</td>\n",
       "      <td>2154.962997</td>\n",
       "      <td>Q4</td>\n",
       "      <td>86</td>\n",
       "      <td>0</td>\n",
       "      <td>0</td>\n",
       "      <td>0</td>\n",
       "      <td>1</td>\n",
       "      <td>4</td>\n",
       "      <td>16</td>\n",
       "      <td>7.675529</td>\n",
       "    </tr>\n",
       "    <tr>\n",
       "      <th>4</th>\n",
       "      <td>Q1_87</td>\n",
       "      <td>1547.818996</td>\n",
       "      <td>Q1</td>\n",
       "      <td>87</td>\n",
       "      <td>1</td>\n",
       "      <td>0</td>\n",
       "      <td>0</td>\n",
       "      <td>0</td>\n",
       "      <td>5</td>\n",
       "      <td>25</td>\n",
       "      <td>7.344602</td>\n",
       "    </tr>\n",
       "  </tbody>\n",
       "</table>\n",
       "</div>"
      ],
      "text/plain": [
       "  Quarter        Sales Quarters  Year  Q1  Q2  Q3  Q4  t  t_squared  Log_Sales\n",
       "0   Q1_86  1734.827000       Q1    86   1   0   0   0  1          1   7.458663\n",
       "1   Q2_86  2244.960999       Q2    86   0   1   0   0  2          4   7.716443\n",
       "2   Q3_86  2533.804993       Q3    86   0   0   1   0  3          9   7.837477\n",
       "3   Q4_86  2154.962997       Q4    86   0   0   0   1  4         16   7.675529\n",
       "4   Q1_87  1547.818996       Q1    87   1   0   0   0  5         25   7.344602"
      ]
     },
     "execution_count": 14,
     "metadata": {},
     "output_type": "execute_result"
    }
   ],
   "source": [
    "cocacola1.head()"
   ]
  },
  {
   "cell_type": "code",
   "execution_count": 15,
   "id": "973b47bd",
   "metadata": {},
   "outputs": [
    {
     "data": {
      "text/plain": [
       "<AxesSubplot:xlabel='Quarters', ylabel='Year'>"
      ]
     },
     "execution_count": 15,
     "metadata": {},
     "output_type": "execute_result"
    },
    {
     "data": {
      "image/png": "[encoded data removed]",
      "text/plain": [
       "<Figure size 864x720 with 2 Axes>"
      ]
     },
     "metadata": {
      "needs_background": "light"
     },
     "output_type": "display_data"
    }
   ],
   "source": [
    "# visualize the data\n",
    "\n",
    "plt.figure(figsize=(12,10))\n",
    "plot_month_y = pd.pivot_table(data = cocacola,values=\"Sales\",index=\"Year\",columns=\"Quarters\"\n",
    "                             ,aggfunc=\"mean\",fill_value=0)\n",
    "sns.heatmap(plot_month_y,annot=True,fmt = \"g\")"
   ]
  },
  {
   "cell_type": "code",
   "execution_count": 16,
   "id": "8f485e90",
   "metadata": {},
   "outputs": [],
   "source": [
    "#"
   ]
  },
  {
   "cell_type": "code",
   "execution_count": 17,
   "id": "6564c300",
   "metadata": {},
   "outputs": [
    {
     "data": {
      "text/plain": [
       "<AxesSubplot:xlabel='Quarters', ylabel='Sales'>"
      ]
     },
     "execution_count": 17,
     "metadata": {},
     "output_type": "execute_result"
    },
    {
     "data": {
      "image/png": "[encoded data removed]",
      "text/plain": [
       "<Figure size 432x288 with 1 Axes>"
      ]
     },
     "metadata": {
      "needs_background": "light"
     },
     "output_type": "display_data"
    }
   ],
   "source": [
    "sns.boxplot(x=\"Quarters\",y=\"Sales\",data=cocacola1)"
   ]
  },
  {
   "cell_type": "code",
   "execution_count": 18,
   "id": "82ce369f",
   "metadata": {},
   "outputs": [
    {
     "data": {
      "text/plain": [
       "<AxesSubplot:xlabel='Year', ylabel='Sales'>"
      ]
     },
     "execution_count": 18,
     "metadata": {},
     "output_type": "execute_result"
    },
    {
     "data": {
      "image/png": "[encoded data removed]",
      "text/plain": [
       "<Figure size 432x288 with 1 Axes>"
      ]
     },
     "metadata": {
      "needs_background": "light"
     },
     "output_type": "display_data"
    }
   ],
   "source": [
    "sns.boxplot(x=\"Year\",y=\"Sales\",data=cocacola1)"
   ]
  },
  {
   "cell_type": "code",
   "execution_count": 19,
   "id": "8a5a6115",
   "metadata": {},
   "outputs": [
    {
     "data": {
      "text/plain": [
       "<AxesSubplot:xlabel='Year', ylabel='Sales'>"
      ]
     },
     "execution_count": 19,
     "metadata": {},
     "output_type": "execute_result"
    },
    {
     "data": {
      "image/png": "[encoded data removed]",
      "text/plain": [
       "<Figure size 864x144 with 1 Axes>"
      ]
     },
     "metadata": {
      "needs_background": "light"
     },
     "output_type": "display_data"
    }
   ],
   "source": [
    "plt.figure(figsize=(12,2))\n",
    "sns.lineplot(x='Year',y='Sales',data=cocacola)"
   ]
  },
  {
   "cell_type": "markdown",
   "id": "86077866",
   "metadata": {},
   "source": [
    "# Splitting data"
   ]
  },
  {
   "cell_type": "code",
   "execution_count": 20,
   "id": "9a3918c4",
   "metadata": {},
   "outputs": [],
   "source": [
    "Train = cocacola1.head(38)\n",
    "Test = cocacola1.tail(4)"
   ]
  },
  {
   "cell_type": "code",
   "execution_count": 21,
   "id": "be00cf5e",
   "metadata": {},
   "outputs": [
    {
     "data": {
      "text/plain": [
       "591.553295722396"
      ]
     },
     "execution_count": 21,
     "metadata": {},
     "output_type": "execute_result"
    }
   ],
   "source": [
    "# Linear model\n",
    "import statsmodels.formula.api as smf\n",
    "linear_model = smf.ols('Sales~t',data=Train).fit()\n",
    "pred_linear =  pd.Series(linear_model.predict(pd.DataFrame(Test['t'])))\n",
    "rmse_linear = np.sqrt(np.mean((np.array(Test['Sales'])-np.array(pred_linear))**2))\n",
    "rmse_linear"
   ]
  },
  {
   "cell_type": "code",
   "execution_count": 22,
   "id": "cd0cee1f",
   "metadata": {},
   "outputs": [
    {
     "data": {
      "text/plain": [
       "466.2479731067161"
      ]
     },
     "execution_count": 22,
     "metadata": {},
     "output_type": "execute_result"
    }
   ],
   "source": [
    "# Exponential\n",
    "Exp = smf.ols('Log_Sales~t',data=Train).fit()\n",
    "pred_Exp = pd.Series(Exp.predict(pd.DataFrame(Test['t'])))\n",
    "rmse_Exp = np.sqrt(np.mean((np.array(Test['Sales'])-np.array(np.exp(pred_Exp)))**2))\n",
    "rmse_Exp"
   ]
  },
  {
   "cell_type": "code",
   "execution_count": 23,
   "id": "977a00b1",
   "metadata": {},
   "outputs": [
    {
     "data": {
      "text/plain": [
       "475.5618351831504"
      ]
     },
     "execution_count": 23,
     "metadata": {},
     "output_type": "execute_result"
    }
   ],
   "source": [
    "# Quadratic\n",
    "Quad = smf.ols('Sales~t+t_squared',data=Train).fit()\n",
    "pred_Quad = pd.Series(Quad.predict(Test[[\"t\",\"t_squared\"]]))\n",
    "rmse_Quad = np.sqrt(np.mean((np.array(Test['Sales'])-np.array(pred_Quad))**2))\n",
    "rmse_Quad"
   ]
  },
  {
   "cell_type": "code",
   "execution_count": 24,
   "id": "e29558ec",
   "metadata": {},
   "outputs": [
    {
     "data": {
      "text/plain": [
       "1860.0238154547274"
      ]
     },
     "execution_count": 24,
     "metadata": {},
     "output_type": "execute_result"
    }
   ],
   "source": [
    "# Additive seasonality\n",
    "add_sea = smf.ols('Sales~Q1+Q2+Q3',data=Train).fit()\n",
    "pred_add_sea = pd.Series(add_sea.predict(Test[['Q1','Q2','Q3']]))\n",
    "rmse_add_sea = np.sqrt(np.mean((np.array(Test['Sales'])-np.array(pred_add_sea))**2))\n",
    "rmse_add_sea"
   ]
  },
  {
   "cell_type": "code",
   "execution_count": 25,
   "id": "3eebe698",
   "metadata": {},
   "outputs": [
    {
     "data": {
      "text/plain": [
       "301.7380071934905"
      ]
     },
     "execution_count": 25,
     "metadata": {},
     "output_type": "execute_result"
    }
   ],
   "source": [
    "# Additive Seasonality Quadratic\n",
    "add_sea_Quad = smf.ols('Sales~t+t_squared+Q1+Q2+Q3',data=Train).fit()\n",
    "pred_add_sea_quad = pd.Series(add_sea_Quad.predict(Test[['Q1','Q2','Q3','t','t_squared']]))\n",
    "rmse_add_sea_quad = np.sqrt(np.mean((np.array(Test['Sales'])-np.array(pred_add_sea_quad))**2))\n",
    "rmse_add_sea_quad"
   ]
  },
  {
   "cell_type": "code",
   "execution_count": 26,
   "id": "32b4ba2f",
   "metadata": {},
   "outputs": [
    {
     "data": {
      "text/plain": [
       "1963.3896400779743"
      ]
     },
     "execution_count": 26,
     "metadata": {},
     "output_type": "execute_result"
    }
   ],
   "source": [
    "# Multiplicative Seasonality\n",
    "Mul_sea = smf.ols('Log_Sales~Q1+Q2+Q3',data = Train).fit()\n",
    "pred_Mult_sea = pd.Series(Mul_sea.predict(Test))\n",
    "rmse_Mult_sea = np.sqrt(np.mean((np.array(Test['Sales'])-np.array(np.exp(pred_Mult_sea)))**2))\n",
    "rmse_Mult_sea"
   ]
  },
  {
   "cell_type": "code",
   "execution_count": 27,
   "id": "0aee9e13",
   "metadata": {},
   "outputs": [
    {
     "data": {
      "text/plain": [
       "225.52439049817832"
      ]
     },
     "execution_count": 27,
     "metadata": {},
     "output_type": "execute_result"
    }
   ],
   "source": [
    "# Multiplicative Additive Seasonality\n",
    "Mul_Add_sea = smf.ols('Log_Sales~t+Q1+Q2+Q3',data = Train).fit()\n",
    "pred_Mult_add_sea = pd.Series(Mul_Add_sea.predict(Test))\n",
    "rmse_Mult_add_sea = np.sqrt(np.mean((np.array(Test['Sales'])-np.array(np.exp(pred_Mult_add_sea)))**2))\n",
    "rmse_Mult_add_sea"
   ]
  },
  {
   "cell_type": "code",
   "execution_count": 28,
   "id": "40cab488",
   "metadata": {},
   "outputs": [
    {
     "data": {
      "text/html": [
       "<div>\n",
       "<style scoped>\n",
       "    .dataframe tbody tr th:only-of-type {\n",
       "        vertical-align: middle;\n",
       "    }\n",
       "\n",
       "    .dataframe tbody tr th {\n",
       "        vertical-align: top;\n",
       "    }\n",
       "\n",
       "    .dataframe thead th {\n",
       "        text-align: right;\n",
       "    }\n",
       "</style>\n",
       "<table border=\"1\" class=\"dataframe\">\n",
       "  <thead>\n",
       "    <tr style=\"text-align: right;\">\n",
       "      <th></th>\n",
       "      <th>MODEL</th>\n",
       "      <th>RMSE_Values</th>\n",
       "    </tr>\n",
       "  </thead>\n",
       "  <tbody>\n",
       "    <tr>\n",
       "      <th>0</th>\n",
       "      <td>rmse_linear</td>\n",
       "      <td>591.553296</td>\n",
       "    </tr>\n",
       "    <tr>\n",
       "      <th>1</th>\n",
       "      <td>rmse_Exp</td>\n",
       "      <td>466.247973</td>\n",
       "    </tr>\n",
       "    <tr>\n",
       "      <th>2</th>\n",
       "      <td>rmse_Quad</td>\n",
       "      <td>475.561835</td>\n",
       "    </tr>\n",
       "    <tr>\n",
       "      <th>3</th>\n",
       "      <td>rmse_add_sea</td>\n",
       "      <td>1860.023815</td>\n",
       "    </tr>\n",
       "    <tr>\n",
       "      <th>4</th>\n",
       "      <td>rmse_add_sea_quad</td>\n",
       "      <td>301.738007</td>\n",
       "    </tr>\n",
       "    <tr>\n",
       "      <th>5</th>\n",
       "      <td>rmse_Mult_sea</td>\n",
       "      <td>1963.389640</td>\n",
       "    </tr>\n",
       "    <tr>\n",
       "      <th>6</th>\n",
       "      <td>rmse_Mult_add_sea</td>\n",
       "      <td>225.524390</td>\n",
       "    </tr>\n",
       "  </tbody>\n",
       "</table>\n",
       "</div>"
      ],
      "text/plain": [
       "               MODEL  RMSE_Values\n",
       "0        rmse_linear   591.553296\n",
       "1           rmse_Exp   466.247973\n",
       "2          rmse_Quad   475.561835\n",
       "3       rmse_add_sea  1860.023815\n",
       "4  rmse_add_sea_quad   301.738007\n",
       "5      rmse_Mult_sea  1963.389640\n",
       "6  rmse_Mult_add_sea   225.524390"
      ]
     },
     "execution_count": 28,
     "metadata": {},
     "output_type": "execute_result"
    }
   ],
   "source": [
    "#tabulating the rmse values\n",
    "\n",
    "data = {\"MODEL\":pd.Series([\"rmse_linear\",\"rmse_Exp\",\"rmse_Quad\",\"rmse_add_sea\",\"rmse_add_sea_quad\",\"rmse_Mult_sea\",\"rmse_Mult_add_sea\"]),\"RMSE_Values\":pd.Series([rmse_linear,rmse_Exp,rmse_Quad,rmse_add_sea,rmse_add_sea_quad,rmse_Mult_sea,rmse_Mult_add_sea])}\n",
    "table_rmse=pd.DataFrame(data)\n",
    "table_rmse"
   ]
  },
  {
   "cell_type": "markdown",
   "id": "0034e080",
   "metadata": {},
   "source": [
    "Model built with multiplicative seasonality and addicitve trend has less RMSE compared to all others and hence we would use that model for forecasting new data"
   ]
  },
  {
   "cell_type": "markdown",
   "id": "660b681d",
   "metadata": {},
   "source": [
    "# PREDICT WITH NEW DATA"
   ]
  },
  {
   "cell_type": "code",
   "execution_count": 29,
   "id": "8c921ec6",
   "metadata": {},
   "outputs": [
    {
     "data": {
      "text/plain": [
       "array([43, 44, 45, 46, 47, 48, 49, 50, 51, 52, 53])"
      ]
     },
     "execution_count": 29,
     "metadata": {},
     "output_type": "execute_result"
    }
   ],
   "source": [
    "t = np.arange(43,54)\n",
    "t"
   ]
  },
  {
   "cell_type": "code",
   "execution_count": 30,
   "id": "54e23ca9",
   "metadata": {},
   "outputs": [
    {
     "data": {
      "text/plain": [
       "array([1849, 1936, 2025, 2116, 2209, 2304, 2401, 2500, 2601, 2704, 2809])"
      ]
     },
     "execution_count": 30,
     "metadata": {},
     "output_type": "execute_result"
    }
   ],
   "source": [
    "t_squared=np.array(t*t)\n",
    "t_squared"
   ]
  },
  {
   "cell_type": "code",
   "execution_count": 31,
   "id": "64c4ce82",
   "metadata": {},
   "outputs": [],
   "source": [
    "df={'t':t,'t_squared':t_squared}\n",
    "df=pd.DataFrame(df)"
   ]
  },
  {
   "cell_type": "code",
   "execution_count": 32,
   "id": "8f25ac1e",
   "metadata": {},
   "outputs": [],
   "source": [
    "Quarter = pd.DataFrame({'Quarter':['Q3_96','Q4_96','Q1_97','Q2_97','Q3_97','Q4_97','Q1_98','Q2_98','Q3_98','Q4_98','Q1_99']})"
   ]
  },
  {
   "cell_type": "code",
   "execution_count": 33,
   "id": "d2ff2d1a",
   "metadata": {},
   "outputs": [
    {
     "data": {
      "text/html": [
       "<div>\n",
       "<style scoped>\n",
       "    .dataframe tbody tr th:only-of-type {\n",
       "        vertical-align: middle;\n",
       "    }\n",
       "\n",
       "    .dataframe tbody tr th {\n",
       "        vertical-align: top;\n",
       "    }\n",
       "\n",
       "    .dataframe thead th {\n",
       "        text-align: right;\n",
       "    }\n",
       "</style>\n",
       "<table border=\"1\" class=\"dataframe\">\n",
       "  <thead>\n",
       "    <tr style=\"text-align: right;\">\n",
       "      <th></th>\n",
       "      <th>Quarter</th>\n",
       "      <th>t</th>\n",
       "      <th>t_squared</th>\n",
       "    </tr>\n",
       "  </thead>\n",
       "  <tbody>\n",
       "    <tr>\n",
       "      <th>0</th>\n",
       "      <td>Q3_96</td>\n",
       "      <td>43</td>\n",
       "      <td>1849</td>\n",
       "    </tr>\n",
       "    <tr>\n",
       "      <th>1</th>\n",
       "      <td>Q4_96</td>\n",
       "      <td>44</td>\n",
       "      <td>1936</td>\n",
       "    </tr>\n",
       "    <tr>\n",
       "      <th>2</th>\n",
       "      <td>Q1_97</td>\n",
       "      <td>45</td>\n",
       "      <td>2025</td>\n",
       "    </tr>\n",
       "    <tr>\n",
       "      <th>3</th>\n",
       "      <td>Q2_97</td>\n",
       "      <td>46</td>\n",
       "      <td>2116</td>\n",
       "    </tr>\n",
       "    <tr>\n",
       "      <th>4</th>\n",
       "      <td>Q3_97</td>\n",
       "      <td>47</td>\n",
       "      <td>2209</td>\n",
       "    </tr>\n",
       "    <tr>\n",
       "      <th>5</th>\n",
       "      <td>Q4_97</td>\n",
       "      <td>48</td>\n",
       "      <td>2304</td>\n",
       "    </tr>\n",
       "    <tr>\n",
       "      <th>6</th>\n",
       "      <td>Q1_98</td>\n",
       "      <td>49</td>\n",
       "      <td>2401</td>\n",
       "    </tr>\n",
       "    <tr>\n",
       "      <th>7</th>\n",
       "      <td>Q2_98</td>\n",
       "      <td>50</td>\n",
       "      <td>2500</td>\n",
       "    </tr>\n",
       "    <tr>\n",
       "      <th>8</th>\n",
       "      <td>Q3_98</td>\n",
       "      <td>51</td>\n",
       "      <td>2601</td>\n",
       "    </tr>\n",
       "    <tr>\n",
       "      <th>9</th>\n",
       "      <td>Q4_98</td>\n",
       "      <td>52</td>\n",
       "      <td>2704</td>\n",
       "    </tr>\n",
       "    <tr>\n",
       "      <th>10</th>\n",
       "      <td>Q1_99</td>\n",
       "      <td>53</td>\n",
       "      <td>2809</td>\n",
       "    </tr>\n",
       "  </tbody>\n",
       "</table>\n",
       "</div>"
      ],
      "text/plain": [
       "   Quarter   t  t_squared\n",
       "0    Q3_96  43       1849\n",
       "1    Q4_96  44       1936\n",
       "2    Q1_97  45       2025\n",
       "3    Q2_97  46       2116\n",
       "4    Q3_97  47       2209\n",
       "5    Q4_97  48       2304\n",
       "6    Q1_98  49       2401\n",
       "7    Q2_98  50       2500\n",
       "8    Q3_98  51       2601\n",
       "9    Q4_98  52       2704\n",
       "10   Q1_99  53       2809"
      ]
     },
     "execution_count": 33,
     "metadata": {},
     "output_type": "execute_result"
    }
   ],
   "source": [
    "newdata = pd.concat([Quarter,df],axis=1)\n",
    "newdata"
   ]
  },
  {
   "cell_type": "code",
   "execution_count": 34,
   "id": "60d82400",
   "metadata": {},
   "outputs": [
    {
     "data": {
      "text/plain": [
       "0     4569.833196\n",
       "1     4643.111331\n",
       "2     4716.389465\n",
       "3     4789.667600\n",
       "4     4862.945734\n",
       "5     4936.223868\n",
       "6     5009.502003\n",
       "7     5082.780137\n",
       "8     5156.058271\n",
       "9     5229.336406\n",
       "10    5302.614540\n",
       "dtype: float64"
      ]
     },
     "execution_count": 34,
     "metadata": {},
     "output_type": "execute_result"
    }
   ],
   "source": [
    "model_full= smf.ols('Sales~t',data = cocacola1).fit()\n",
    "pred_new=pd.Series(model_full.predict(newdata))\n",
    "pred_new"
   ]
  },
  {
   "cell_type": "code",
   "execution_count": 39,
   "id": "939524e5",
   "metadata": {},
   "outputs": [
    {
     "data": {
      "text/html": [
       "<div>\n",
       "<style scoped>\n",
       "    .dataframe tbody tr th:only-of-type {\n",
       "        vertical-align: middle;\n",
       "    }\n",
       "\n",
       "    .dataframe tbody tr th {\n",
       "        vertical-align: top;\n",
       "    }\n",
       "\n",
       "    .dataframe thead th {\n",
       "        text-align: right;\n",
       "    }\n",
       "</style>\n",
       "<table border=\"1\" class=\"dataframe\">\n",
       "  <thead>\n",
       "    <tr style=\"text-align: right;\">\n",
       "      <th></th>\n",
       "      <th>Quarter</th>\n",
       "      <th>t</th>\n",
       "      <th>t_squared</th>\n",
       "      <th>forecasted_Sales</th>\n",
       "    </tr>\n",
       "  </thead>\n",
       "  <tbody>\n",
       "    <tr>\n",
       "      <th>0</th>\n",
       "      <td>Q3_96</td>\n",
       "      <td>43</td>\n",
       "      <td>1849</td>\n",
       "      <td>4569.833196</td>\n",
       "    </tr>\n",
       "    <tr>\n",
       "      <th>1</th>\n",
       "      <td>Q4_96</td>\n",
       "      <td>44</td>\n",
       "      <td>1936</td>\n",
       "      <td>4643.111331</td>\n",
       "    </tr>\n",
       "    <tr>\n",
       "      <th>2</th>\n",
       "      <td>Q1_97</td>\n",
       "      <td>45</td>\n",
       "      <td>2025</td>\n",
       "      <td>4716.389465</td>\n",
       "    </tr>\n",
       "    <tr>\n",
       "      <th>3</th>\n",
       "      <td>Q2_97</td>\n",
       "      <td>46</td>\n",
       "      <td>2116</td>\n",
       "      <td>4789.667600</td>\n",
       "    </tr>\n",
       "    <tr>\n",
       "      <th>4</th>\n",
       "      <td>Q3_97</td>\n",
       "      <td>47</td>\n",
       "      <td>2209</td>\n",
       "      <td>4862.945734</td>\n",
       "    </tr>\n",
       "    <tr>\n",
       "      <th>5</th>\n",
       "      <td>Q4_97</td>\n",
       "      <td>48</td>\n",
       "      <td>2304</td>\n",
       "      <td>4936.223868</td>\n",
       "    </tr>\n",
       "    <tr>\n",
       "      <th>6</th>\n",
       "      <td>Q1_98</td>\n",
       "      <td>49</td>\n",
       "      <td>2401</td>\n",
       "      <td>5009.502003</td>\n",
       "    </tr>\n",
       "    <tr>\n",
       "      <th>7</th>\n",
       "      <td>Q2_98</td>\n",
       "      <td>50</td>\n",
       "      <td>2500</td>\n",
       "      <td>5082.780137</td>\n",
       "    </tr>\n",
       "    <tr>\n",
       "      <th>8</th>\n",
       "      <td>Q3_98</td>\n",
       "      <td>51</td>\n",
       "      <td>2601</td>\n",
       "      <td>5156.058271</td>\n",
       "    </tr>\n",
       "    <tr>\n",
       "      <th>9</th>\n",
       "      <td>Q4_98</td>\n",
       "      <td>52</td>\n",
       "      <td>2704</td>\n",
       "      <td>5229.336406</td>\n",
       "    </tr>\n",
       "    <tr>\n",
       "      <th>10</th>\n",
       "      <td>Q1_99</td>\n",
       "      <td>53</td>\n",
       "      <td>2809</td>\n",
       "      <td>5302.614540</td>\n",
       "    </tr>\n",
       "  </tbody>\n",
       "</table>\n",
       "</div>"
      ],
      "text/plain": [
       "   Quarter   t  t_squared  forecasted_Sales\n",
       "0    Q3_96  43       1849       4569.833196\n",
       "1    Q4_96  44       1936       4643.111331\n",
       "2    Q1_97  45       2025       4716.389465\n",
       "3    Q2_97  46       2116       4789.667600\n",
       "4    Q3_97  47       2209       4862.945734\n",
       "5    Q4_97  48       2304       4936.223868\n",
       "6    Q1_98  49       2401       5009.502003\n",
       "7    Q2_98  50       2500       5082.780137\n",
       "8    Q3_98  51       2601       5156.058271\n",
       "9    Q4_98  52       2704       5229.336406\n",
       "10   Q1_99  53       2809       5302.614540"
      ]
     },
     "execution_count": 39,
     "metadata": {},
     "output_type": "execute_result"
    }
   ],
   "source": [
    "newdata[\"forecasted_Sales\"] = pd.Series(pred_new)\n",
    "newdata"
   ]
  },
  {
   "cell_type": "code",
   "execution_count": 40,
   "id": "4be74230",
   "metadata": {},
   "outputs": [],
   "source": [
    "#225.52439049818733  \n",
    "# multiplicative additive seasonality is best model"
   ]
  },
  {
   "cell_type": "markdown",
   "id": "2efb3bf3",
   "metadata": {},
   "source": [
    "# FORECASTING DATA DRIVEN MODELS"
   ]
  },
  {
   "cell_type": "code",
   "execution_count": 41,
   "id": "41867d1c",
   "metadata": {},
   "outputs": [
    {
     "data": {
      "text/plain": [
       "<matplotlib.legend.Legend at 0x1f7a70683d0>"
      ]
     },
     "execution_count": 41,
     "metadata": {},
     "output_type": "execute_result"
    },
    {
     "data": {
      "image/png": "[encoded data removed]",
      "text/plain": [
       "<Figure size 864x288 with 1 Axes>"
      ]
     },
     "metadata": {
      "needs_background": "light"
     },
     "output_type": "display_data"
    }
   ],
   "source": [
    "plt.figure(figsize=(12,4))\n",
    "cocacola.Sales.plot(label=\"org\")\n",
    "for i in range(2,24,6):\n",
    "    cocacola['Sales'].rolling(i).mean().plot(label=str(i))\n",
    "plt.legend(loc='best')"
   ]
  },
  {
   "cell_type": "code",
   "execution_count": 42,
   "id": "41310334",
   "metadata": {},
   "outputs": [],
   "source": [
    "from statsmodels.tsa.seasonal import seasonal_decompose\n",
    "from statsmodels.tsa.holtwinters import SimpleExpSmoothing # SES\n",
    "from statsmodels.tsa.holtwinters import Holt # Holts Exponential Smoothing\n",
    "from statsmodels.tsa.holtwinters import ExponentialSmoothing"
   ]
  },
  {
   "cell_type": "code",
   "execution_count": 43,
   "id": "2ede6db5",
   "metadata": {},
   "outputs": [
    {
     "data": {
      "image/png": "[encoded data removed]",
      "text/plain": [
       "<Figure size 432x288 with 4 Axes>"
      ]
     },
     "metadata": {
      "needs_background": "light"
     },
     "output_type": "display_data"
    }
   ],
   "source": [
    "decompose_ts_add = seasonal_decompose(cocacola['Sales'],period=12)\n",
    "decompose_ts_add.plot()\n",
    "plt.show()"
   ]
  },
  {
   "cell_type": "code",
   "execution_count": 44,
   "id": "6d1c0629",
   "metadata": {},
   "outputs": [
    {
     "data": {
      "image/png": "[encoded data removed]",
      "text/plain": [
       "<Figure size 432x288 with 1 Axes>"
      ]
     },
     "metadata": {
      "needs_background": "light"
     },
     "output_type": "display_data"
    },
    {
     "data": {
      "image/png": "[encoded data removed]",
      "text/plain": [
       "<Figure size 432x288 with 1 Axes>"
      ]
     },
     "metadata": {
      "needs_background": "light"
     },
     "output_type": "display_data"
    }
   ],
   "source": [
    "import statsmodels.graphics.tsaplots as tsa_plots\n",
    "tsa_plots.plot_acf(cocacola.Sales,lags=12)\n",
    "tsa_plots.plot_pacf(cocacola.Sales,lags=12)\n",
    "plt.show()\n"
   ]
  },
  {
   "cell_type": "markdown",
   "id": "3666577e",
   "metadata": {},
   "source": [
    "# Evaluation Metric MAPE"
   ]
  },
  {
   "cell_type": "code",
   "execution_count": 45,
   "id": "bad41d60",
   "metadata": {},
   "outputs": [],
   "source": [
    "def MAPE(pred,org):\n",
    "    temp = np.abs((pred-org)/org)*100\n",
    "    return np.mean(temp)"
   ]
  },
  {
   "cell_type": "markdown",
   "id": "f78c75e0",
   "metadata": {},
   "source": [
    "# Simple Exponential Method"
   ]
  },
  {
   "cell_type": "code",
   "execution_count": 46,
   "id": "1ac1d00b",
   "metadata": {},
   "outputs": [
    {
     "name": "stderr",
     "output_type": "stream",
     "text": [
      "C:\\Users\\sanjana\\anaconda3\\lib\\site-packages\\statsmodels\\tsa\\holtwinters\\model.py:427: FutureWarning: After 0.13 initialization must be handled at model creation\n",
      "  warnings.warn(\n"
     ]
    },
    {
     "data": {
      "text/plain": [
       "13.169736766030951"
      ]
     },
     "execution_count": 46,
     "metadata": {},
     "output_type": "execute_result"
    }
   ],
   "source": [
    "ses_model = SimpleExpSmoothing(Train[\"Sales\"]).fit(smoothing_level=0.2)\n",
    "pred_ses = ses_model.predict(start = Test.index[0],end = Test.index[-1])\n",
    "MAPE(pred_ses,Test.Sales) "
   ]
  },
  {
   "cell_type": "markdown",
   "id": "9357036a",
   "metadata": {},
   "source": [
    "# Holt method"
   ]
  },
  {
   "cell_type": "code",
   "execution_count": 47,
   "id": "43096d0c",
   "metadata": {},
   "outputs": [
    {
     "name": "stderr",
     "output_type": "stream",
     "text": [
      "<ipython-input-47-bd0ef4e2b52c>:1: FutureWarning: the 'smoothing_slope'' keyword is deprecated, use 'smoothing_trend' instead\n",
      "  hw_model = Holt(Train[\"Sales\"]).fit(smoothing_level=0.8, smoothing_slope=0.2)\n"
     ]
    },
    {
     "data": {
      "text/plain": [
       "12.361934138460628"
      ]
     },
     "execution_count": 47,
     "metadata": {},
     "output_type": "execute_result"
    }
   ],
   "source": [
    "hw_model = Holt(Train[\"Sales\"]).fit(smoothing_level=0.8, smoothing_slope=0.2)\n",
    "pred_hw = hw_model.predict(start = Test.index[0],end = Test.index[-1])\n",
    "MAPE(pred_hw,Test.Sales) "
   ]
  },
  {
   "cell_type": "code",
   "execution_count": 48,
   "id": "bdde9e07",
   "metadata": {},
   "outputs": [
    {
     "data": {
      "text/plain": [
       "10.506483142573769"
      ]
     },
     "execution_count": 48,
     "metadata": {},
     "output_type": "execute_result"
    }
   ],
   "source": [
    "# Holt method without passing hyperparameters\n",
    "hw_model = Holt(Train[\"Sales\"]).fit()\n",
    "pred_hw = hw_model.predict(start = Test.index[0],end = Test.index[-1])\n",
    "MAPE(pred_hw,Test.Sales) "
   ]
  },
  {
   "cell_type": "markdown",
   "id": "91d59a9d",
   "metadata": {},
   "source": [
    "# Holts winter exponential smoothing with additive seasonality and additive trend"
   ]
  },
  {
   "cell_type": "code",
   "execution_count": 49,
   "id": "a42bbe32",
   "metadata": {},
   "outputs": [
    {
     "data": {
      "text/plain": [
       "5.6187173824510435"
      ]
     },
     "execution_count": 49,
     "metadata": {},
     "output_type": "execute_result"
    }
   ],
   "source": [
    "hwe_model_add_add = ExponentialSmoothing(Train[\"Sales\"],seasonal=\"add\",trend=\"add\",seasonal_periods=12).fit() #add the trend to the model\n",
    "pred_hwe_add_add = hwe_model_add_add.predict(start = Test.index[0],end = Test.index[-1])\n",
    "MAPE(pred_hwe_add_add,Test.Sales) "
   ]
  },
  {
   "cell_type": "markdown",
   "id": "0a8d9a7a",
   "metadata": {},
   "source": [
    "# Holts winter exponential smoothing with multiplicative seasonality and additive trend"
   ]
  },
  {
   "cell_type": "code",
   "execution_count": 50,
   "id": "d867f443",
   "metadata": {},
   "outputs": [
    {
     "data": {
      "text/plain": [
       "2.851410922784237"
      ]
     },
     "execution_count": 50,
     "metadata": {},
     "output_type": "execute_result"
    }
   ],
   "source": [
    "hwe_model_mul_add = ExponentialSmoothing(Train[\"Sales\"],seasonal=\"mul\",trend=\"add\",seasonal_periods=12).fit() \n",
    "pred_hwe_mul_add = hwe_model_mul_add.predict(start = Test.index[0],end = Test.index[-1])\n",
    "MAPE(pred_hwe_mul_add,Test.Sales)"
   ]
  },
  {
   "cell_type": "markdown",
   "id": "7e308e8f",
   "metadata": {},
   "source": [
    "Model built with Holts winter exponential smoothing with multiplicative seasonality and additive trend has less MAPE compared to all others and hence we would use that model for forecasting new data"
   ]
  },
  {
   "cell_type": "markdown",
   "id": "2aeabb72",
   "metadata": {},
   "source": [
    "# Build the model on entire dataset"
   ]
  },
  {
   "cell_type": "code",
   "execution_count": 53,
   "id": "2f00b497",
   "metadata": {},
   "outputs": [],
   "source": [
    "hwe_model_add_add = ExponentialSmoothing(cocacola1[\"Sales\"],seasonal=\"mul\",trend=\"add\",seasonal_periods=12).fit()"
   ]
  },
  {
   "cell_type": "code",
   "execution_count": 55,
   "id": "dfa79e49",
   "metadata": {},
   "outputs": [
    {
     "data": {
      "text/plain": [
       "42    4929.498608\n",
       "43    4614.623753\n",
       "44    4554.130175\n",
       "45    5773.661620\n",
       "46    5819.106671\n",
       "47    5235.769937\n",
       "48    4978.866235\n",
       "49    6256.435076\n",
       "50    6148.798793\n",
       "51    5598.154172\n",
       "dtype: float64"
      ]
     },
     "execution_count": 55,
     "metadata": {},
     "output_type": "execute_result"
    }
   ],
   "source": [
    "#Forecasting for next 10 time periods\n",
    "hwe_model_add_add.forecast(10)"
   ]
  }
 ],
 "metadata": {
  "kernelspec": {
   "display_name": "Python 3",
   "language": "python",
   "name": "python3"
  },
  "language_info": {
   "codemirror_mode": {
    "name": "ipython",
    "version": 3
   },
   "file_extension": ".py",
   "mimetype": "text/x-python",
   "name": "python",
   "nbconvert_exporter": "python",
   "pygments_lexer": "ipython3",
   "version": "3.8.8"
  }
 },
 "nbformat": 4,
 "nbformat_minor": 5
}
